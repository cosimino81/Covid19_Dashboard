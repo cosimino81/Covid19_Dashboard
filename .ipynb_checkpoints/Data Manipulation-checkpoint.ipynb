{
 "cells": [
  {
   "cell_type": "code",
   "execution_count": 582,
   "metadata": {},
   "outputs": [],
   "source": [
    "import pandas as pd\n",
    "import pycountry_convert as pc"
   ]
  },
  {
   "cell_type": "code",
   "execution_count": 583,
   "metadata": {},
   "outputs": [
    {
     "name": "stdout",
     "output_type": "stream",
     "text": [
      "Africa\n"
     ]
    }
   ],
   "source": [
    "# define function to convert country code to continent name\n",
    "def country_to_continent(country_code):\n",
    "    if country_code == \"JPG11668\":\n",
    "        country_code = \"JP\"\n",
    "    # obsolete codes   \n",
    "    elif country_code == \"EL\":\n",
    "        country_code = \"GR\"\n",
    "        \n",
    "    elif country_code == \"VA\":\n",
    "        country_code = \"IT\"\n",
    "        \n",
    "    elif country_code == \"SX\":\n",
    "        country_code = \"HT\"\n",
    "    \n",
    "    elif country_code == \"TL\":\n",
    "        country_code = \"JP\"\n",
    "        \n",
    "    elif country_code == \"UK\":\n",
    "        country_code = \"GB\"\n",
    "    \n",
    "    elif country_code == \"\":\n",
    "        country_code = \"NA\"\n",
    "        \n",
    "    country_continent_code = pc.country_alpha2_to_continent_code(country_code)\n",
    "    country_continent_name = pc.convert_continent_code_to_continent_name(country_continent_code)\n",
    "    return country_continent_name\n",
    "\n",
    "# Example\n",
    "country_code = 'NA'\n",
    "\n",
    "print(country_to_continent(country_code))"
   ]
  },
  {
   "cell_type": "code",
   "execution_count": 584,
   "metadata": {},
   "outputs": [],
   "source": [
    "#pc.country_name_to_country_alpha2(country_name)"
   ]
  },
  {
   "cell_type": "code",
   "execution_count": 607,
   "metadata": {},
   "outputs": [
    {
     "data": {
      "text/plain": [
       "(10537, 10)"
      ]
     },
     "execution_count": 607,
     "metadata": {},
     "output_type": "execute_result"
    }
   ],
   "source": [
    "# read the dataset\n",
    "df_covid = pd.read_csv(\"https://opendata.ecdc.europa.eu/covid19/casedistribution/csv\")\n",
    "\n",
    "df_covid.shape"
   ]
  },
  {
   "cell_type": "code",
   "execution_count": 608,
   "metadata": {},
   "outputs": [],
   "source": [
    "# drop nan values on geoID\n",
    "df_covid.dropna(subset = [\"geoId\"], inplace=True)"
   ]
  },
  {
   "cell_type": "code",
   "execution_count": 609,
   "metadata": {},
   "outputs": [],
   "source": [
    "# drop nan on dateREP\n",
    "df_covid.dropna(subset= [\"dateRep\"], inplace = True)"
   ]
  },
  {
   "cell_type": "code",
   "execution_count": 610,
   "metadata": {},
   "outputs": [
    {
     "data": {
      "text/plain": [
       "(10507, 10)"
      ]
     },
     "execution_count": 610,
     "metadata": {},
     "output_type": "execute_result"
    }
   ],
   "source": [
    "df_covid.shape"
   ]
  },
  {
   "cell_type": "code",
   "execution_count": 611,
   "metadata": {},
   "outputs": [],
   "source": [
    "#df_covid.to_excel(\"covid19dataset.xlsx\")"
   ]
  },
  {
   "cell_type": "code",
   "execution_count": 612,
   "metadata": {},
   "outputs": [],
   "source": [
    "# create the continent column\n",
    "df_covid[\"continent\"] = df_covid[\"geoId\"].apply(lambda x: country_to_continent(x))"
   ]
  },
  {
   "cell_type": "code",
   "execution_count": 613,
   "metadata": {},
   "outputs": [
    {
     "data": {
      "text/html": [
       "<div>\n",
       "<style scoped>\n",
       "    .dataframe tbody tr th:only-of-type {\n",
       "        vertical-align: middle;\n",
       "    }\n",
       "\n",
       "    .dataframe tbody tr th {\n",
       "        vertical-align: top;\n",
       "    }\n",
       "\n",
       "    .dataframe thead th {\n",
       "        text-align: right;\n",
       "    }\n",
       "</style>\n",
       "<table border=\"1\" class=\"dataframe\">\n",
       "  <thead>\n",
       "    <tr style=\"text-align: right;\">\n",
       "      <th></th>\n",
       "      <th>dateRep</th>\n",
       "      <th>day</th>\n",
       "      <th>month</th>\n",
       "      <th>year</th>\n",
       "      <th>cases</th>\n",
       "      <th>deaths</th>\n",
       "      <th>countriesAndTerritories</th>\n",
       "      <th>geoId</th>\n",
       "      <th>countryterritoryCode</th>\n",
       "      <th>popData2018</th>\n",
       "      <th>continent</th>\n",
       "    </tr>\n",
       "  </thead>\n",
       "  <tbody>\n",
       "    <tr>\n",
       "      <th>0</th>\n",
       "      <td>13/04/2020</td>\n",
       "      <td>13</td>\n",
       "      <td>4</td>\n",
       "      <td>2020</td>\n",
       "      <td>52</td>\n",
       "      <td>0</td>\n",
       "      <td>Afghanistan</td>\n",
       "      <td>AF</td>\n",
       "      <td>AFG</td>\n",
       "      <td>37172386.0</td>\n",
       "      <td>Asia</td>\n",
       "    </tr>\n",
       "    <tr>\n",
       "      <th>1</th>\n",
       "      <td>12/04/2020</td>\n",
       "      <td>12</td>\n",
       "      <td>4</td>\n",
       "      <td>2020</td>\n",
       "      <td>34</td>\n",
       "      <td>3</td>\n",
       "      <td>Afghanistan</td>\n",
       "      <td>AF</td>\n",
       "      <td>AFG</td>\n",
       "      <td>37172386.0</td>\n",
       "      <td>Asia</td>\n",
       "    </tr>\n",
       "    <tr>\n",
       "      <th>2</th>\n",
       "      <td>11/04/2020</td>\n",
       "      <td>11</td>\n",
       "      <td>4</td>\n",
       "      <td>2020</td>\n",
       "      <td>37</td>\n",
       "      <td>0</td>\n",
       "      <td>Afghanistan</td>\n",
       "      <td>AF</td>\n",
       "      <td>AFG</td>\n",
       "      <td>37172386.0</td>\n",
       "      <td>Asia</td>\n",
       "    </tr>\n",
       "    <tr>\n",
       "      <th>3</th>\n",
       "      <td>10/04/2020</td>\n",
       "      <td>10</td>\n",
       "      <td>4</td>\n",
       "      <td>2020</td>\n",
       "      <td>61</td>\n",
       "      <td>1</td>\n",
       "      <td>Afghanistan</td>\n",
       "      <td>AF</td>\n",
       "      <td>AFG</td>\n",
       "      <td>37172386.0</td>\n",
       "      <td>Asia</td>\n",
       "    </tr>\n",
       "    <tr>\n",
       "      <th>4</th>\n",
       "      <td>09/04/2020</td>\n",
       "      <td>9</td>\n",
       "      <td>4</td>\n",
       "      <td>2020</td>\n",
       "      <td>56</td>\n",
       "      <td>3</td>\n",
       "      <td>Afghanistan</td>\n",
       "      <td>AF</td>\n",
       "      <td>AFG</td>\n",
       "      <td>37172386.0</td>\n",
       "      <td>Asia</td>\n",
       "    </tr>\n",
       "  </tbody>\n",
       "</table>\n",
       "</div>"
      ],
      "text/plain": [
       "      dateRep  day  month  year  cases  deaths countriesAndTerritories geoId  \\\n",
       "0  13/04/2020   13      4  2020     52       0             Afghanistan    AF   \n",
       "1  12/04/2020   12      4  2020     34       3             Afghanistan    AF   \n",
       "2  11/04/2020   11      4  2020     37       0             Afghanistan    AF   \n",
       "3  10/04/2020   10      4  2020     61       1             Afghanistan    AF   \n",
       "4  09/04/2020    9      4  2020     56       3             Afghanistan    AF   \n",
       "\n",
       "  countryterritoryCode  popData2018 continent  \n",
       "0                  AFG   37172386.0      Asia  \n",
       "1                  AFG   37172386.0      Asia  \n",
       "2                  AFG   37172386.0      Asia  \n",
       "3                  AFG   37172386.0      Asia  \n",
       "4                  AFG   37172386.0      Asia  "
      ]
     },
     "execution_count": 613,
     "metadata": {},
     "output_type": "execute_result"
    }
   ],
   "source": [
    "df_covid.head()"
   ]
  },
  {
   "cell_type": "code",
   "execution_count": 614,
   "metadata": {},
   "outputs": [],
   "source": [
    "# remove negative values on cases column\n",
    "df_covid[\"cases\"] = df_covid[\"cases\"].apply(lambda x: 0 if x < 0 else x)"
   ]
  },
  {
   "cell_type": "raw",
   "metadata": {},
   "source": [
    "# extract only the month and year\n",
    "df_covid[\"dateMY\"] = df_covid[\"dateRep\"].apply(lambda x: x[3:])"
   ]
  },
  {
   "cell_type": "code",
   "execution_count": 615,
   "metadata": {},
   "outputs": [
    {
     "data": {
      "text/html": [
       "<div>\n",
       "<style scoped>\n",
       "    .dataframe tbody tr th:only-of-type {\n",
       "        vertical-align: middle;\n",
       "    }\n",
       "\n",
       "    .dataframe tbody tr th {\n",
       "        vertical-align: top;\n",
       "    }\n",
       "\n",
       "    .dataframe thead th {\n",
       "        text-align: right;\n",
       "    }\n",
       "</style>\n",
       "<table border=\"1\" class=\"dataframe\">\n",
       "  <thead>\n",
       "    <tr style=\"text-align: right;\">\n",
       "      <th></th>\n",
       "      <th>dateRep</th>\n",
       "      <th>day</th>\n",
       "      <th>month</th>\n",
       "      <th>year</th>\n",
       "      <th>cases</th>\n",
       "      <th>deaths</th>\n",
       "      <th>countriesAndTerritories</th>\n",
       "      <th>geoId</th>\n",
       "      <th>countryterritoryCode</th>\n",
       "      <th>popData2018</th>\n",
       "      <th>continent</th>\n",
       "    </tr>\n",
       "  </thead>\n",
       "  <tbody>\n",
       "    <tr>\n",
       "      <th>0</th>\n",
       "      <td>13/04/2020</td>\n",
       "      <td>13</td>\n",
       "      <td>4</td>\n",
       "      <td>2020</td>\n",
       "      <td>52</td>\n",
       "      <td>0</td>\n",
       "      <td>Afghanistan</td>\n",
       "      <td>AF</td>\n",
       "      <td>AFG</td>\n",
       "      <td>37172386.0</td>\n",
       "      <td>Asia</td>\n",
       "    </tr>\n",
       "    <tr>\n",
       "      <th>1</th>\n",
       "      <td>12/04/2020</td>\n",
       "      <td>12</td>\n",
       "      <td>4</td>\n",
       "      <td>2020</td>\n",
       "      <td>34</td>\n",
       "      <td>3</td>\n",
       "      <td>Afghanistan</td>\n",
       "      <td>AF</td>\n",
       "      <td>AFG</td>\n",
       "      <td>37172386.0</td>\n",
       "      <td>Asia</td>\n",
       "    </tr>\n",
       "    <tr>\n",
       "      <th>2</th>\n",
       "      <td>11/04/2020</td>\n",
       "      <td>11</td>\n",
       "      <td>4</td>\n",
       "      <td>2020</td>\n",
       "      <td>37</td>\n",
       "      <td>0</td>\n",
       "      <td>Afghanistan</td>\n",
       "      <td>AF</td>\n",
       "      <td>AFG</td>\n",
       "      <td>37172386.0</td>\n",
       "      <td>Asia</td>\n",
       "    </tr>\n",
       "    <tr>\n",
       "      <th>3</th>\n",
       "      <td>10/04/2020</td>\n",
       "      <td>10</td>\n",
       "      <td>4</td>\n",
       "      <td>2020</td>\n",
       "      <td>61</td>\n",
       "      <td>1</td>\n",
       "      <td>Afghanistan</td>\n",
       "      <td>AF</td>\n",
       "      <td>AFG</td>\n",
       "      <td>37172386.0</td>\n",
       "      <td>Asia</td>\n",
       "    </tr>\n",
       "    <tr>\n",
       "      <th>4</th>\n",
       "      <td>09/04/2020</td>\n",
       "      <td>9</td>\n",
       "      <td>4</td>\n",
       "      <td>2020</td>\n",
       "      <td>56</td>\n",
       "      <td>3</td>\n",
       "      <td>Afghanistan</td>\n",
       "      <td>AF</td>\n",
       "      <td>AFG</td>\n",
       "      <td>37172386.0</td>\n",
       "      <td>Asia</td>\n",
       "    </tr>\n",
       "    <tr>\n",
       "      <th>...</th>\n",
       "      <td>...</td>\n",
       "      <td>...</td>\n",
       "      <td>...</td>\n",
       "      <td>...</td>\n",
       "      <td>...</td>\n",
       "      <td>...</td>\n",
       "      <td>...</td>\n",
       "      <td>...</td>\n",
       "      <td>...</td>\n",
       "      <td>...</td>\n",
       "      <td>...</td>\n",
       "    </tr>\n",
       "    <tr>\n",
       "      <th>10532</th>\n",
       "      <td>25/03/2020</td>\n",
       "      <td>25</td>\n",
       "      <td>3</td>\n",
       "      <td>2020</td>\n",
       "      <td>0</td>\n",
       "      <td>0</td>\n",
       "      <td>Zimbabwe</td>\n",
       "      <td>ZW</td>\n",
       "      <td>ZWE</td>\n",
       "      <td>14439018.0</td>\n",
       "      <td>Africa</td>\n",
       "    </tr>\n",
       "    <tr>\n",
       "      <th>10533</th>\n",
       "      <td>24/03/2020</td>\n",
       "      <td>24</td>\n",
       "      <td>3</td>\n",
       "      <td>2020</td>\n",
       "      <td>0</td>\n",
       "      <td>1</td>\n",
       "      <td>Zimbabwe</td>\n",
       "      <td>ZW</td>\n",
       "      <td>ZWE</td>\n",
       "      <td>14439018.0</td>\n",
       "      <td>Africa</td>\n",
       "    </tr>\n",
       "    <tr>\n",
       "      <th>10534</th>\n",
       "      <td>23/03/2020</td>\n",
       "      <td>23</td>\n",
       "      <td>3</td>\n",
       "      <td>2020</td>\n",
       "      <td>0</td>\n",
       "      <td>0</td>\n",
       "      <td>Zimbabwe</td>\n",
       "      <td>ZW</td>\n",
       "      <td>ZWE</td>\n",
       "      <td>14439018.0</td>\n",
       "      <td>Africa</td>\n",
       "    </tr>\n",
       "    <tr>\n",
       "      <th>10535</th>\n",
       "      <td>22/03/2020</td>\n",
       "      <td>22</td>\n",
       "      <td>3</td>\n",
       "      <td>2020</td>\n",
       "      <td>1</td>\n",
       "      <td>0</td>\n",
       "      <td>Zimbabwe</td>\n",
       "      <td>ZW</td>\n",
       "      <td>ZWE</td>\n",
       "      <td>14439018.0</td>\n",
       "      <td>Africa</td>\n",
       "    </tr>\n",
       "    <tr>\n",
       "      <th>10536</th>\n",
       "      <td>21/03/2020</td>\n",
       "      <td>21</td>\n",
       "      <td>3</td>\n",
       "      <td>2020</td>\n",
       "      <td>1</td>\n",
       "      <td>0</td>\n",
       "      <td>Zimbabwe</td>\n",
       "      <td>ZW</td>\n",
       "      <td>ZWE</td>\n",
       "      <td>14439018.0</td>\n",
       "      <td>Africa</td>\n",
       "    </tr>\n",
       "  </tbody>\n",
       "</table>\n",
       "<p>10507 rows × 11 columns</p>\n",
       "</div>"
      ],
      "text/plain": [
       "          dateRep  day  month  year  cases  deaths countriesAndTerritories  \\\n",
       "0      13/04/2020   13      4  2020     52       0             Afghanistan   \n",
       "1      12/04/2020   12      4  2020     34       3             Afghanistan   \n",
       "2      11/04/2020   11      4  2020     37       0             Afghanistan   \n",
       "3      10/04/2020   10      4  2020     61       1             Afghanistan   \n",
       "4      09/04/2020    9      4  2020     56       3             Afghanistan   \n",
       "...           ...  ...    ...   ...    ...     ...                     ...   \n",
       "10532  25/03/2020   25      3  2020      0       0                Zimbabwe   \n",
       "10533  24/03/2020   24      3  2020      0       1                Zimbabwe   \n",
       "10534  23/03/2020   23      3  2020      0       0                Zimbabwe   \n",
       "10535  22/03/2020   22      3  2020      1       0                Zimbabwe   \n",
       "10536  21/03/2020   21      3  2020      1       0                Zimbabwe   \n",
       "\n",
       "      geoId countryterritoryCode  popData2018 continent  \n",
       "0        AF                  AFG   37172386.0      Asia  \n",
       "1        AF                  AFG   37172386.0      Asia  \n",
       "2        AF                  AFG   37172386.0      Asia  \n",
       "3        AF                  AFG   37172386.0      Asia  \n",
       "4        AF                  AFG   37172386.0      Asia  \n",
       "...     ...                  ...          ...       ...  \n",
       "10532    ZW                  ZWE   14439018.0    Africa  \n",
       "10533    ZW                  ZWE   14439018.0    Africa  \n",
       "10534    ZW                  ZWE   14439018.0    Africa  \n",
       "10535    ZW                  ZWE   14439018.0    Africa  \n",
       "10536    ZW                  ZWE   14439018.0    Africa  \n",
       "\n",
       "[10507 rows x 11 columns]"
      ]
     },
     "execution_count": 615,
     "metadata": {},
     "output_type": "execute_result"
    }
   ],
   "source": [
    "df_covid"
   ]
  },
  {
   "cell_type": "markdown",
   "metadata": {},
   "source": [
    "df_covid[\"datetime\"] = pd.to_datetime(df_covid[\"dateRep\"], format = '%y/%m/%d', errors='ignore')\n",
    "df_covid"
   ]
  },
  {
   "cell_type": "markdown",
   "metadata": {},
   "source": [
    "df_covid.sort_values(\"datetime\", inplace=True, ascending=False)\n",
    "df_covid"
   ]
  },
  {
   "cell_type": "raw",
   "metadata": {},
   "source": [
    "df_date = df_covid.groupby([\"month\", \"year\",\"countriesAndTerritories\",\"countryterritoryCode\",\"continent\" ]).sum().reset_index()\n",
    "df_date"
   ]
  },
  {
   "cell_type": "code",
   "execution_count": 616,
   "metadata": {},
   "outputs": [],
   "source": [
    "# convert integer to strings\n",
    "df_covid[\"month\"] = df_covid[\"month\"].astype(str)\n",
    "df_covid[\"year\"] = df_covid[\"year\"].astype(str)\n",
    "df_covid[\"day\"] = df_covid[\"day\"].astype(str)"
   ]
  },
  {
   "cell_type": "code",
   "execution_count": null,
   "metadata": {},
   "outputs": [],
   "source": []
  },
  {
   "cell_type": "code",
   "execution_count": 617,
   "metadata": {},
   "outputs": [],
   "source": [
    "# create the period column using only month and year\n",
    "df_covid[\"period\"] = df_covid[[\"month\", \"year\"]].apply(lambda x: '-'.join(x), axis =1)"
   ]
  },
  {
   "cell_type": "code",
   "execution_count": 618,
   "metadata": {},
   "outputs": [],
   "source": [
    "#df_covid.sort_values(\"period\", ascending=True, inplace=True)"
   ]
  },
  {
   "cell_type": "code",
   "execution_count": 619,
   "metadata": {},
   "outputs": [],
   "source": [
    "# convert the strings to type datetime \n",
    "df_covid[\"period\"] = pd.to_datetime(df_covid[\"period\"])"
   ]
  },
  {
   "cell_type": "code",
   "execution_count": 620,
   "metadata": {},
   "outputs": [],
   "source": [
    "# sort the period in ascending mode\n",
    "df_covid.sort_values(\"period\", inplace=True, ascending=True)"
   ]
  },
  {
   "cell_type": "markdown",
   "metadata": {},
   "source": [
    "for el in df_covid.period:\n",
    "    print(el)"
   ]
  },
  {
   "cell_type": "code",
   "execution_count": 621,
   "metadata": {},
   "outputs": [
    {
     "data": {
      "text/html": [
       "<div>\n",
       "<style scoped>\n",
       "    .dataframe tbody tr th:only-of-type {\n",
       "        vertical-align: middle;\n",
       "    }\n",
       "\n",
       "    .dataframe tbody tr th {\n",
       "        vertical-align: top;\n",
       "    }\n",
       "\n",
       "    .dataframe thead th {\n",
       "        text-align: right;\n",
       "    }\n",
       "</style>\n",
       "<table border=\"1\" class=\"dataframe\">\n",
       "  <thead>\n",
       "    <tr style=\"text-align: right;\">\n",
       "      <th></th>\n",
       "      <th>dateRep</th>\n",
       "      <th>day</th>\n",
       "      <th>month</th>\n",
       "      <th>year</th>\n",
       "      <th>cases</th>\n",
       "      <th>deaths</th>\n",
       "      <th>countriesAndTerritories</th>\n",
       "      <th>geoId</th>\n",
       "      <th>countryterritoryCode</th>\n",
       "      <th>popData2018</th>\n",
       "      <th>continent</th>\n",
       "      <th>period</th>\n",
       "    </tr>\n",
       "  </thead>\n",
       "  <tbody>\n",
       "    <tr>\n",
       "      <th>7877</th>\n",
       "      <td>31/12/2019</td>\n",
       "      <td>31</td>\n",
       "      <td>12</td>\n",
       "      <td>2019</td>\n",
       "      <td>0</td>\n",
       "      <td>0</td>\n",
       "      <td>Philippines</td>\n",
       "      <td>PH</td>\n",
       "      <td>PHL</td>\n",
       "      <td>106651922.0</td>\n",
       "      <td>Asia</td>\n",
       "      <td>2019-12-01</td>\n",
       "    </tr>\n",
       "    <tr>\n",
       "      <th>6179</th>\n",
       "      <td>31/12/2019</td>\n",
       "      <td>31</td>\n",
       "      <td>12</td>\n",
       "      <td>2019</td>\n",
       "      <td>0</td>\n",
       "      <td>0</td>\n",
       "      <td>Malaysia</td>\n",
       "      <td>MY</td>\n",
       "      <td>MYS</td>\n",
       "      <td>31528585.0</td>\n",
       "      <td>Asia</td>\n",
       "      <td>2019-12-01</td>\n",
       "    </tr>\n",
       "    <tr>\n",
       "      <th>588</th>\n",
       "      <td>31/12/2019</td>\n",
       "      <td>31</td>\n",
       "      <td>12</td>\n",
       "      <td>2019</td>\n",
       "      <td>0</td>\n",
       "      <td>0</td>\n",
       "      <td>Australia</td>\n",
       "      <td>AU</td>\n",
       "      <td>AUS</td>\n",
       "      <td>24992369.0</td>\n",
       "      <td>Oceania</td>\n",
       "      <td>2019-12-01</td>\n",
       "    </tr>\n",
       "    <tr>\n",
       "      <th>1842</th>\n",
       "      <td>31/12/2019</td>\n",
       "      <td>31</td>\n",
       "      <td>12</td>\n",
       "      <td>2019</td>\n",
       "      <td>0</td>\n",
       "      <td>0</td>\n",
       "      <td>Canada</td>\n",
       "      <td>CA</td>\n",
       "      <td>CAN</td>\n",
       "      <td>37058856.0</td>\n",
       "      <td>North America</td>\n",
       "      <td>2019-12-01</td>\n",
       "    </tr>\n",
       "    <tr>\n",
       "      <th>1705</th>\n",
       "      <td>31/12/2019</td>\n",
       "      <td>31</td>\n",
       "      <td>12</td>\n",
       "      <td>2019</td>\n",
       "      <td>0</td>\n",
       "      <td>0</td>\n",
       "      <td>Cambodia</td>\n",
       "      <td>KH</td>\n",
       "      <td>KHM</td>\n",
       "      <td>16249798.0</td>\n",
       "      <td>Asia</td>\n",
       "      <td>2019-12-01</td>\n",
       "    </tr>\n",
       "    <tr>\n",
       "      <th>...</th>\n",
       "      <td>...</td>\n",
       "      <td>...</td>\n",
       "      <td>...</td>\n",
       "      <td>...</td>\n",
       "      <td>...</td>\n",
       "      <td>...</td>\n",
       "      <td>...</td>\n",
       "      <td>...</td>\n",
       "      <td>...</td>\n",
       "      <td>...</td>\n",
       "      <td>...</td>\n",
       "      <td>...</td>\n",
       "    </tr>\n",
       "    <tr>\n",
       "      <th>8491</th>\n",
       "      <td>11/04/2020</td>\n",
       "      <td>11</td>\n",
       "      <td>4</td>\n",
       "      <td>2020</td>\n",
       "      <td>364</td>\n",
       "      <td>3</td>\n",
       "      <td>Saudi_Arabia</td>\n",
       "      <td>SA</td>\n",
       "      <td>SAU</td>\n",
       "      <td>33699947.0</td>\n",
       "      <td>Asia</td>\n",
       "      <td>2020-04-01</td>\n",
       "    </tr>\n",
       "    <tr>\n",
       "      <th>8492</th>\n",
       "      <td>10/04/2020</td>\n",
       "      <td>10</td>\n",
       "      <td>4</td>\n",
       "      <td>2020</td>\n",
       "      <td>355</td>\n",
       "      <td>3</td>\n",
       "      <td>Saudi_Arabia</td>\n",
       "      <td>SA</td>\n",
       "      <td>SAU</td>\n",
       "      <td>33699947.0</td>\n",
       "      <td>Asia</td>\n",
       "      <td>2020-04-01</td>\n",
       "    </tr>\n",
       "    <tr>\n",
       "      <th>8493</th>\n",
       "      <td>09/04/2020</td>\n",
       "      <td>9</td>\n",
       "      <td>4</td>\n",
       "      <td>2020</td>\n",
       "      <td>137</td>\n",
       "      <td>0</td>\n",
       "      <td>Saudi_Arabia</td>\n",
       "      <td>SA</td>\n",
       "      <td>SAU</td>\n",
       "      <td>33699947.0</td>\n",
       "      <td>Asia</td>\n",
       "      <td>2020-04-01</td>\n",
       "    </tr>\n",
       "    <tr>\n",
       "      <th>8495</th>\n",
       "      <td>07/04/2020</td>\n",
       "      <td>7</td>\n",
       "      <td>4</td>\n",
       "      <td>2020</td>\n",
       "      <td>138</td>\n",
       "      <td>4</td>\n",
       "      <td>Saudi_Arabia</td>\n",
       "      <td>SA</td>\n",
       "      <td>SAU</td>\n",
       "      <td>33699947.0</td>\n",
       "      <td>Asia</td>\n",
       "      <td>2020-04-01</td>\n",
       "    </tr>\n",
       "    <tr>\n",
       "      <th>0</th>\n",
       "      <td>13/04/2020</td>\n",
       "      <td>13</td>\n",
       "      <td>4</td>\n",
       "      <td>2020</td>\n",
       "      <td>52</td>\n",
       "      <td>0</td>\n",
       "      <td>Afghanistan</td>\n",
       "      <td>AF</td>\n",
       "      <td>AFG</td>\n",
       "      <td>37172386.0</td>\n",
       "      <td>Asia</td>\n",
       "      <td>2020-04-01</td>\n",
       "    </tr>\n",
       "  </tbody>\n",
       "</table>\n",
       "<p>10507 rows × 12 columns</p>\n",
       "</div>"
      ],
      "text/plain": [
       "         dateRep day month  year  cases  deaths countriesAndTerritories geoId  \\\n",
       "7877  31/12/2019  31    12  2019      0       0             Philippines    PH   \n",
       "6179  31/12/2019  31    12  2019      0       0                Malaysia    MY   \n",
       "588   31/12/2019  31    12  2019      0       0               Australia    AU   \n",
       "1842  31/12/2019  31    12  2019      0       0                  Canada    CA   \n",
       "1705  31/12/2019  31    12  2019      0       0                Cambodia    KH   \n",
       "...          ...  ..   ...   ...    ...     ...                     ...   ...   \n",
       "8491  11/04/2020  11     4  2020    364       3            Saudi_Arabia    SA   \n",
       "8492  10/04/2020  10     4  2020    355       3            Saudi_Arabia    SA   \n",
       "8493  09/04/2020   9     4  2020    137       0            Saudi_Arabia    SA   \n",
       "8495  07/04/2020   7     4  2020    138       4            Saudi_Arabia    SA   \n",
       "0     13/04/2020  13     4  2020     52       0             Afghanistan    AF   \n",
       "\n",
       "     countryterritoryCode  popData2018      continent      period  \n",
       "7877                  PHL  106651922.0           Asia  2019-12-01  \n",
       "6179                  MYS   31528585.0           Asia  2019-12-01  \n",
       "588                   AUS   24992369.0        Oceania  2019-12-01  \n",
       "1842                  CAN   37058856.0  North America  2019-12-01  \n",
       "1705                  KHM   16249798.0           Asia  2019-12-01  \n",
       "...                   ...          ...            ...         ...  \n",
       "8491                  SAU   33699947.0           Asia  2020-04-01  \n",
       "8492                  SAU   33699947.0           Asia  2020-04-01  \n",
       "8493                  SAU   33699947.0           Asia  2020-04-01  \n",
       "8495                  SAU   33699947.0           Asia  2020-04-01  \n",
       "0                     AFG   37172386.0           Asia  2020-04-01  \n",
       "\n",
       "[10507 rows x 12 columns]"
      ]
     },
     "execution_count": 621,
     "metadata": {},
     "output_type": "execute_result"
    }
   ],
   "source": [
    "# convert again the period type to string in order to plot it\n",
    "df_covid[\"period\"] = df_covid[\"period\"].astype(str)\n",
    "df_covid"
   ]
  },
  {
   "cell_type": "code",
   "execution_count": 622,
   "metadata": {},
   "outputs": [],
   "source": [
    "# group the df\n",
    "dfg = df_covid.groupby([\"period\",\"countriesAndTerritories\",\"countryterritoryCode\",\"continent\" ]).sum().reset_index()\n",
    "\n",
    "# rename columns\n",
    "dfg.rename(columns ={\"countriesAndTerritories\":\"Country Name\",\n",
    "                     \"period\":\"Period\",\n",
    "                     \"countryterritoryCode\":\"ISO_Apha3\",\n",
    "                     \"continent\":\"Continent\"}, inplace = True)"
   ]
  },
  {
   "cell_type": "code",
   "execution_count": 623,
   "metadata": {},
   "outputs": [
    {
     "data": {
      "text/html": [
       "<div>\n",
       "<style scoped>\n",
       "    .dataframe tbody tr th:only-of-type {\n",
       "        vertical-align: middle;\n",
       "    }\n",
       "\n",
       "    .dataframe tbody tr th {\n",
       "        vertical-align: top;\n",
       "    }\n",
       "\n",
       "    .dataframe thead th {\n",
       "        text-align: right;\n",
       "    }\n",
       "</style>\n",
       "<table border=\"1\" class=\"dataframe\">\n",
       "  <thead>\n",
       "    <tr style=\"text-align: right;\">\n",
       "      <th></th>\n",
       "      <th>Period</th>\n",
       "      <th>Country Name</th>\n",
       "      <th>ISO_Apha3</th>\n",
       "      <th>Continent</th>\n",
       "      <th>cases</th>\n",
       "      <th>deaths</th>\n",
       "      <th>popData2018</th>\n",
       "    </tr>\n",
       "  </thead>\n",
       "  <tbody>\n",
       "    <tr>\n",
       "      <th>0</th>\n",
       "      <td>2019-12-01</td>\n",
       "      <td>Afghanistan</td>\n",
       "      <td>AFG</td>\n",
       "      <td>Asia</td>\n",
       "      <td>0</td>\n",
       "      <td>0</td>\n",
       "      <td>3.717239e+07</td>\n",
       "    </tr>\n",
       "    <tr>\n",
       "      <th>1</th>\n",
       "      <td>2019-12-01</td>\n",
       "      <td>Algeria</td>\n",
       "      <td>DZA</td>\n",
       "      <td>Africa</td>\n",
       "      <td>0</td>\n",
       "      <td>0</td>\n",
       "      <td>4.222843e+07</td>\n",
       "    </tr>\n",
       "    <tr>\n",
       "      <th>2</th>\n",
       "      <td>2019-12-01</td>\n",
       "      <td>Armenia</td>\n",
       "      <td>ARM</td>\n",
       "      <td>Asia</td>\n",
       "      <td>0</td>\n",
       "      <td>0</td>\n",
       "      <td>2.951776e+06</td>\n",
       "    </tr>\n",
       "    <tr>\n",
       "      <th>3</th>\n",
       "      <td>2019-12-01</td>\n",
       "      <td>Australia</td>\n",
       "      <td>AUS</td>\n",
       "      <td>Oceania</td>\n",
       "      <td>0</td>\n",
       "      <td>0</td>\n",
       "      <td>2.499237e+07</td>\n",
       "    </tr>\n",
       "    <tr>\n",
       "      <th>4</th>\n",
       "      <td>2019-12-01</td>\n",
       "      <td>Austria</td>\n",
       "      <td>AUT</td>\n",
       "      <td>Europe</td>\n",
       "      <td>0</td>\n",
       "      <td>0</td>\n",
       "      <td>8.847037e+06</td>\n",
       "    </tr>\n",
       "    <tr>\n",
       "      <th>...</th>\n",
       "      <td>...</td>\n",
       "      <td>...</td>\n",
       "      <td>...</td>\n",
       "      <td>...</td>\n",
       "      <td>...</td>\n",
       "      <td>...</td>\n",
       "      <td>...</td>\n",
       "    </tr>\n",
       "    <tr>\n",
       "      <th>583</th>\n",
       "      <td>2020-04-01</td>\n",
       "      <td>Venezuela</td>\n",
       "      <td>VEN</td>\n",
       "      <td>South America</td>\n",
       "      <td>46</td>\n",
       "      <td>6</td>\n",
       "      <td>3.753125e+08</td>\n",
       "    </tr>\n",
       "    <tr>\n",
       "      <th>584</th>\n",
       "      <td>2020-04-01</td>\n",
       "      <td>Vietnam</td>\n",
       "      <td>VNM</td>\n",
       "      <td>Asia</td>\n",
       "      <td>33</td>\n",
       "      <td>0</td>\n",
       "      <td>1.242025e+09</td>\n",
       "    </tr>\n",
       "    <tr>\n",
       "      <th>585</th>\n",
       "      <td>2020-04-01</td>\n",
       "      <td>Yemen</td>\n",
       "      <td>YEM</td>\n",
       "      <td>Asia</td>\n",
       "      <td>1</td>\n",
       "      <td>0</td>\n",
       "      <td>1.139947e+08</td>\n",
       "    </tr>\n",
       "    <tr>\n",
       "      <th>586</th>\n",
       "      <td>2020-04-01</td>\n",
       "      <td>Zambia</td>\n",
       "      <td>ZMB</td>\n",
       "      <td>Africa</td>\n",
       "      <td>8</td>\n",
       "      <td>2</td>\n",
       "      <td>2.255737e+08</td>\n",
       "    </tr>\n",
       "    <tr>\n",
       "      <th>587</th>\n",
       "      <td>2020-04-01</td>\n",
       "      <td>Zimbabwe</td>\n",
       "      <td>ZWE</td>\n",
       "      <td>Africa</td>\n",
       "      <td>7</td>\n",
       "      <td>2</td>\n",
       "      <td>1.877072e+08</td>\n",
       "    </tr>\n",
       "  </tbody>\n",
       "</table>\n",
       "<p>588 rows × 7 columns</p>\n",
       "</div>"
      ],
      "text/plain": [
       "         Period Country Name ISO_Apha3      Continent  cases  deaths  \\\n",
       "0    2019-12-01  Afghanistan       AFG           Asia      0       0   \n",
       "1    2019-12-01      Algeria       DZA         Africa      0       0   \n",
       "2    2019-12-01      Armenia       ARM           Asia      0       0   \n",
       "3    2019-12-01    Australia       AUS        Oceania      0       0   \n",
       "4    2019-12-01      Austria       AUT         Europe      0       0   \n",
       "..          ...          ...       ...            ...    ...     ...   \n",
       "583  2020-04-01    Venezuela       VEN  South America     46       6   \n",
       "584  2020-04-01      Vietnam       VNM           Asia     33       0   \n",
       "585  2020-04-01        Yemen       YEM           Asia      1       0   \n",
       "586  2020-04-01       Zambia       ZMB         Africa      8       2   \n",
       "587  2020-04-01     Zimbabwe       ZWE         Africa      7       2   \n",
       "\n",
       "      popData2018  \n",
       "0    3.717239e+07  \n",
       "1    4.222843e+07  \n",
       "2    2.951776e+06  \n",
       "3    2.499237e+07  \n",
       "4    8.847037e+06  \n",
       "..            ...  \n",
       "583  3.753125e+08  \n",
       "584  1.242025e+09  \n",
       "585  1.139947e+08  \n",
       "586  2.255737e+08  \n",
       "587  1.877072e+08  \n",
       "\n",
       "[588 rows x 7 columns]"
      ]
     },
     "execution_count": 623,
     "metadata": {},
     "output_type": "execute_result"
    }
   ],
   "source": [
    "dfg"
   ]
  },
  {
   "cell_type": "code",
   "execution_count": 624,
   "metadata": {},
   "outputs": [
    {
     "data": {
      "application/vnd.plotly.v1+json": {
       "config": {
        "plotlyServerURL": "https://plot.ly"
       },
       "data": [
        {
         "geo": "geo",
         "hoverlabel": {
          "namelength": 0
         },
         "hovertemplate": "<b>%{hovertext}</b><br><br>Continent=Asia<br>Period=2019-12-01<br>cases=%{marker.size}<br>ISO_Apha3=%{location}",
         "hovertext": [
          "Afghanistan",
          "Armenia",
          "Azerbaijan",
          "Bahrain",
          "Cambodia",
          "China",
          "Georgia",
          "India",
          "Indonesia",
          "Iran",
          "Iraq",
          "Israel",
          "Japan",
          "Kuwait",
          "Lebanon",
          "Malaysia",
          "Nepal",
          "Oman",
          "Pakistan",
          "Philippines",
          "Qatar",
          "Singapore",
          "South_Korea",
          "Sri_Lanka",
          "Taiwan",
          "Thailand",
          "United_Arab_Emirates",
          "Vietnam"
         ],
         "legendgroup": "Asia",
         "locations": [
          "AFG",
          "ARM",
          "AZE",
          "BHR",
          "KHM",
          "CHN",
          "GEO",
          "IND",
          "IDN",
          "IRN",
          "IRQ",
          "ISR",
          "JPN",
          "KWT",
          "LBN",
          "MYS",
          "NPL",
          "OMN",
          "PAK",
          "PHL",
          "QAT",
          "SGP",
          "KOR",
          "LKA",
          "TWN",
          "THA",
          "ARE",
          "VNM"
         ],
         "marker": {
          "color": "#636efa",
          "size": [
           0,
           0,
           0,
           0,
           0,
           27,
           0,
           0,
           0,
           0,
           0,
           0,
           0,
           0,
           0,
           0,
           0,
           0,
           0,
           0,
           0,
           0,
           0,
           0,
           0,
           0,
           0,
           0
          ],
          "sizemode": "area",
          "sizeref": 982.3775
         },
         "name": "Asia",
         "showlegend": true,
         "type": "scattergeo"
        },
        {
         "geo": "geo",
         "hoverlabel": {
          "namelength": 0
         },
         "hovertemplate": "<b>%{hovertext}</b><br><br>Continent=Africa<br>Period=2019-12-01<br>cases=%{marker.size}<br>ISO_Apha3=%{location}",
         "hovertext": [
          "Algeria",
          "Egypt",
          "Nigeria"
         ],
         "legendgroup": "Africa",
         "locations": [
          "DZA",
          "EGY",
          "NGA"
         ],
         "marker": {
          "color": "#EF553B",
          "size": [
           0,
           0,
           0
          ],
          "sizemode": "area",
          "sizeref": 982.3775
         },
         "name": "Africa",
         "showlegend": true,
         "type": "scattergeo"
        },
        {
         "geo": "geo",
         "hoverlabel": {
          "namelength": 0
         },
         "hovertemplate": "<b>%{hovertext}</b><br><br>Continent=Oceania<br>Period=2019-12-01<br>cases=%{marker.size}<br>ISO_Apha3=%{location}",
         "hovertext": [
          "Australia",
          "New_Zealand"
         ],
         "legendgroup": "Oceania",
         "locations": [
          "AUS",
          "NZL"
         ],
         "marker": {
          "color": "#00cc96",
          "size": [
           0,
           0
          ],
          "sizemode": "area",
          "sizeref": 982.3775
         },
         "name": "Oceania",
         "showlegend": true,
         "type": "scattergeo"
        },
        {
         "geo": "geo",
         "hoverlabel": {
          "namelength": 0
         },
         "hovertemplate": "<b>%{hovertext}</b><br><br>Continent=Europe<br>Period=2019-12-01<br>cases=%{marker.size}<br>ISO_Apha3=%{location}",
         "hovertext": [
          "Austria",
          "Belarus",
          "Belgium",
          "Croatia",
          "Denmark",
          "Estonia",
          "Finland",
          "France",
          "Germany",
          "Greece",
          "Iceland",
          "Ireland",
          "Italy",
          "Lithuania",
          "Luxembourg",
          "Monaco",
          "Netherlands",
          "North_Macedonia",
          "Norway",
          "Romania",
          "Russia",
          "San_Marino",
          "Spain",
          "Sweden",
          "Switzerland",
          "United_Kingdom"
         ],
         "legendgroup": "Europe",
         "locations": [
          "AUT",
          "BLR",
          "BEL",
          "HRV",
          "DNK",
          "EST",
          "FIN",
          "FRA",
          "DEU",
          "GRC",
          "ISL",
          "IRL",
          "ITA",
          "LTU",
          "LUX",
          "MCO",
          "NLD",
          "MKD",
          "NOR",
          "ROU",
          "RUS",
          "SMR",
          "ESP",
          "SWE",
          "CHE",
          "GBR"
         ],
         "marker": {
          "color": "#ab63fa",
          "size": [
           0,
           0,
           0,
           0,
           0,
           0,
           0,
           0,
           0,
           0,
           0,
           0,
           0,
           0,
           0,
           0,
           0,
           0,
           0,
           0,
           0,
           0,
           0,
           0,
           0,
           0
          ],
          "sizemode": "area",
          "sizeref": 982.3775
         },
         "name": "Europe",
         "showlegend": true,
         "type": "scattergeo"
        },
        {
         "geo": "geo",
         "hoverlabel": {
          "namelength": 0
         },
         "hovertemplate": "<b>%{hovertext}</b><br><br>Continent=South America<br>Period=2019-12-01<br>cases=%{marker.size}<br>ISO_Apha3=%{location}",
         "hovertext": [
          "Brazil",
          "Ecuador"
         ],
         "legendgroup": "South America",
         "locations": [
          "BRA",
          "ECU"
         ],
         "marker": {
          "color": "#FFA15A",
          "size": [
           0,
           0
          ],
          "sizemode": "area",
          "sizeref": 982.3775
         },
         "name": "South America",
         "showlegend": true,
         "type": "scattergeo"
        },
        {
         "geo": "geo",
         "hoverlabel": {
          "namelength": 0
         },
         "hovertemplate": "<b>%{hovertext}</b><br><br>Continent=North America<br>Period=2019-12-01<br>cases=%{marker.size}<br>ISO_Apha3=%{location}",
         "hovertext": [
          "Canada",
          "Dominican_Republic",
          "Mexico",
          "United_States_of_America"
         ],
         "legendgroup": "North America",
         "locations": [
          "CAN",
          "DOM",
          "MEX",
          "USA"
         ],
         "marker": {
          "color": "#19d3f3",
          "size": [
           0,
           0,
           0,
           0
          ],
          "sizemode": "area",
          "sizeref": 982.3775
         },
         "name": "North America",
         "showlegend": true,
         "type": "scattergeo"
        }
       ],
       "frames": [
        {
         "data": [
          {
           "geo": "geo",
           "hoverlabel": {
            "namelength": 0
           },
           "hovertemplate": "<b>%{hovertext}</b><br><br>Continent=Asia<br>Period=2019-12-01<br>cases=%{marker.size}<br>ISO_Apha3=%{location}",
           "hovertext": [
            "Afghanistan",
            "Armenia",
            "Azerbaijan",
            "Bahrain",
            "Cambodia",
            "China",
            "Georgia",
            "India",
            "Indonesia",
            "Iran",
            "Iraq",
            "Israel",
            "Japan",
            "Kuwait",
            "Lebanon",
            "Malaysia",
            "Nepal",
            "Oman",
            "Pakistan",
            "Philippines",
            "Qatar",
            "Singapore",
            "South_Korea",
            "Sri_Lanka",
            "Taiwan",
            "Thailand",
            "United_Arab_Emirates",
            "Vietnam"
           ],
           "legendgroup": "Asia",
           "locations": [
            "AFG",
            "ARM",
            "AZE",
            "BHR",
            "KHM",
            "CHN",
            "GEO",
            "IND",
            "IDN",
            "IRN",
            "IRQ",
            "ISR",
            "JPN",
            "KWT",
            "LBN",
            "MYS",
            "NPL",
            "OMN",
            "PAK",
            "PHL",
            "QAT",
            "SGP",
            "KOR",
            "LKA",
            "TWN",
            "THA",
            "ARE",
            "VNM"
           ],
           "marker": {
            "color": "#636efa",
            "size": [
             0,
             0,
             0,
             0,
             0,
             27,
             0,
             0,
             0,
             0,
             0,
             0,
             0,
             0,
             0,
             0,
             0,
             0,
             0,
             0,
             0,
             0,
             0,
             0,
             0,
             0,
             0,
             0
            ],
            "sizemode": "area",
            "sizeref": 982.3775
           },
           "name": "Asia",
           "showlegend": true,
           "type": "scattergeo"
          },
          {
           "geo": "geo",
           "hoverlabel": {
            "namelength": 0
           },
           "hovertemplate": "<b>%{hovertext}</b><br><br>Continent=Africa<br>Period=2019-12-01<br>cases=%{marker.size}<br>ISO_Apha3=%{location}",
           "hovertext": [
            "Algeria",
            "Egypt",
            "Nigeria"
           ],
           "legendgroup": "Africa",
           "locations": [
            "DZA",
            "EGY",
            "NGA"
           ],
           "marker": {
            "color": "#EF553B",
            "size": [
             0,
             0,
             0
            ],
            "sizemode": "area",
            "sizeref": 982.3775
           },
           "name": "Africa",
           "showlegend": true,
           "type": "scattergeo"
          },
          {
           "geo": "geo",
           "hoverlabel": {
            "namelength": 0
           },
           "hovertemplate": "<b>%{hovertext}</b><br><br>Continent=Oceania<br>Period=2019-12-01<br>cases=%{marker.size}<br>ISO_Apha3=%{location}",
           "hovertext": [
            "Australia",
            "New_Zealand"
           ],
           "legendgroup": "Oceania",
           "locations": [
            "AUS",
            "NZL"
           ],
           "marker": {
            "color": "#00cc96",
            "size": [
             0,
             0
            ],
            "sizemode": "area",
            "sizeref": 982.3775
           },
           "name": "Oceania",
           "showlegend": true,
           "type": "scattergeo"
          },
          {
           "geo": "geo",
           "hoverlabel": {
            "namelength": 0
           },
           "hovertemplate": "<b>%{hovertext}</b><br><br>Continent=Europe<br>Period=2019-12-01<br>cases=%{marker.size}<br>ISO_Apha3=%{location}",
           "hovertext": [
            "Austria",
            "Belarus",
            "Belgium",
            "Croatia",
            "Denmark",
            "Estonia",
            "Finland",
            "France",
            "Germany",
            "Greece",
            "Iceland",
            "Ireland",
            "Italy",
            "Lithuania",
            "Luxembourg",
            "Monaco",
            "Netherlands",
            "North_Macedonia",
            "Norway",
            "Romania",
            "Russia",
            "San_Marino",
            "Spain",
            "Sweden",
            "Switzerland",
            "United_Kingdom"
           ],
           "legendgroup": "Europe",
           "locations": [
            "AUT",
            "BLR",
            "BEL",
            "HRV",
            "DNK",
            "EST",
            "FIN",
            "FRA",
            "DEU",
            "GRC",
            "ISL",
            "IRL",
            "ITA",
            "LTU",
            "LUX",
            "MCO",
            "NLD",
            "MKD",
            "NOR",
            "ROU",
            "RUS",
            "SMR",
            "ESP",
            "SWE",
            "CHE",
            "GBR"
           ],
           "marker": {
            "color": "#ab63fa",
            "size": [
             0,
             0,
             0,
             0,
             0,
             0,
             0,
             0,
             0,
             0,
             0,
             0,
             0,
             0,
             0,
             0,
             0,
             0,
             0,
             0,
             0,
             0,
             0,
             0,
             0,
             0
            ],
            "sizemode": "area",
            "sizeref": 982.3775
           },
           "name": "Europe",
           "showlegend": true,
           "type": "scattergeo"
          },
          {
           "geo": "geo",
           "hoverlabel": {
            "namelength": 0
           },
           "hovertemplate": "<b>%{hovertext}</b><br><br>Continent=South America<br>Period=2019-12-01<br>cases=%{marker.size}<br>ISO_Apha3=%{location}",
           "hovertext": [
            "Brazil",
            "Ecuador"
           ],
           "legendgroup": "South America",
           "locations": [
            "BRA",
            "ECU"
           ],
           "marker": {
            "color": "#FFA15A",
            "size": [
             0,
             0
            ],
            "sizemode": "area",
            "sizeref": 982.3775
           },
           "name": "South America",
           "showlegend": true,
           "type": "scattergeo"
          },
          {
           "geo": "geo",
           "hoverlabel": {
            "namelength": 0
           },
           "hovertemplate": "<b>%{hovertext}</b><br><br>Continent=North America<br>Period=2019-12-01<br>cases=%{marker.size}<br>ISO_Apha3=%{location}",
           "hovertext": [
            "Canada",
            "Dominican_Republic",
            "Mexico",
            "United_States_of_America"
           ],
           "legendgroup": "North America",
           "locations": [
            "CAN",
            "DOM",
            "MEX",
            "USA"
           ],
           "marker": {
            "color": "#19d3f3",
            "size": [
             0,
             0,
             0,
             0
            ],
            "sizemode": "area",
            "sizeref": 982.3775
           },
           "name": "North America",
           "showlegend": true,
           "type": "scattergeo"
          }
         ],
         "name": "2019-12-01"
        },
        {
         "data": [
          {
           "geo": "geo",
           "hoverlabel": {
            "namelength": 0
           },
           "hovertemplate": "<b>%{hovertext}</b><br><br>Continent=Asia<br>Period=2020-01-01<br>cases=%{marker.size}<br>ISO_Apha3=%{location}",
           "hovertext": [
            "Afghanistan",
            "Armenia",
            "Azerbaijan",
            "Bahrain",
            "Cambodia",
            "China",
            "Georgia",
            "India",
            "Indonesia",
            "Iran",
            "Iraq",
            "Israel",
            "Japan",
            "Kuwait",
            "Lebanon",
            "Malaysia",
            "Nepal",
            "Oman",
            "Pakistan",
            "Philippines",
            "Qatar",
            "Singapore",
            "South_Korea",
            "Sri_Lanka",
            "Taiwan",
            "Thailand",
            "United_Arab_Emirates",
            "Vietnam"
           ],
           "legendgroup": "Asia",
           "locations": [
            "AFG",
            "ARM",
            "AZE",
            "BHR",
            "KHM",
            "CHN",
            "GEO",
            "IND",
            "IDN",
            "IRN",
            "IRQ",
            "ISR",
            "JPN",
            "KWT",
            "LBN",
            "MYS",
            "NPL",
            "OMN",
            "PAK",
            "PHL",
            "QAT",
            "SGP",
            "KOR",
            "LKA",
            "TWN",
            "THA",
            "ARE",
            "VNM"
           ],
           "marker": {
            "color": "#636efa",
            "size": [
             0,
             0,
             0,
             0,
             1,
             9687,
             0,
             1,
             0,
             0,
             0,
             0,
             14,
             0,
             0,
             8,
             1,
             0,
             0,
             1,
             0,
             13,
             7,
             1,
             9,
             14,
             4,
             5
            ],
            "sizemode": "area",
            "sizeref": 982.3775
           },
           "name": "Asia",
           "showlegend": true,
           "type": "scattergeo"
          },
          {
           "geo": "geo",
           "hoverlabel": {
            "namelength": 0
           },
           "hovertemplate": "<b>%{hovertext}</b><br><br>Continent=Africa<br>Period=2020-01-01<br>cases=%{marker.size}<br>ISO_Apha3=%{location}",
           "hovertext": [
            "Algeria",
            "Egypt",
            "Nigeria"
           ],
           "legendgroup": "Africa",
           "locations": [
            "DZA",
            "EGY",
            "NGA"
           ],
           "marker": {
            "color": "#EF553B",
            "size": [
             0,
             0,
             0
            ],
            "sizemode": "area",
            "sizeref": 982.3775
           },
           "name": "Africa",
           "showlegend": true,
           "type": "scattergeo"
          },
          {
           "geo": "geo",
           "hoverlabel": {
            "namelength": 0
           },
           "hovertemplate": "<b>%{hovertext}</b><br><br>Continent=Oceania<br>Period=2020-01-01<br>cases=%{marker.size}<br>ISO_Apha3=%{location}",
           "hovertext": [
            "Australia",
            "New_Zealand"
           ],
           "legendgroup": "Oceania",
           "locations": [
            "AUS",
            "NZL"
           ],
           "marker": {
            "color": "#00cc96",
            "size": [
             7,
             0
            ],
            "sizemode": "area",
            "sizeref": 982.3775
           },
           "name": "Oceania",
           "showlegend": true,
           "type": "scattergeo"
          },
          {
           "geo": "geo",
           "hoverlabel": {
            "namelength": 0
           },
           "hovertemplate": "<b>%{hovertext}</b><br><br>Continent=Europe<br>Period=2020-01-01<br>cases=%{marker.size}<br>ISO_Apha3=%{location}",
           "hovertext": [
            "Austria",
            "Belarus",
            "Belgium",
            "Croatia",
            "Denmark",
            "Estonia",
            "Finland",
            "France",
            "Germany",
            "Greece",
            "Iceland",
            "Ireland",
            "Italy",
            "Lithuania",
            "Luxembourg",
            "Monaco",
            "Netherlands",
            "North_Macedonia",
            "Norway",
            "Romania",
            "Russia",
            "San_Marino",
            "Spain",
            "Sweden",
            "Switzerland",
            "United_Kingdom"
           ],
           "legendgroup": "Europe",
           "locations": [
            "AUT",
            "BLR",
            "BEL",
            "HRV",
            "DNK",
            "EST",
            "FIN",
            "FRA",
            "DEU",
            "GRC",
            "ISL",
            "IRL",
            "ITA",
            "LTU",
            "LUX",
            "MCO",
            "NLD",
            "MKD",
            "NOR",
            "ROU",
            "RUS",
            "SMR",
            "ESP",
            "SWE",
            "CHE",
            "GBR"
           ],
           "marker": {
            "color": "#ab63fa",
            "size": [
             0,
             0,
             0,
             0,
             0,
             0,
             1,
             6,
             5,
             0,
             0,
             0,
             3,
             0,
             0,
             0,
             0,
             0,
             0,
             0,
             0,
             0,
             0,
             0,
             0,
             2
            ],
            "sizemode": "area",
            "sizeref": 982.3775
           },
           "name": "Europe",
           "showlegend": true,
           "type": "scattergeo"
          },
          {
           "geo": "geo",
           "hoverlabel": {
            "namelength": 0
           },
           "hovertemplate": "<b>%{hovertext}</b><br><br>Continent=South America<br>Period=2020-01-01<br>cases=%{marker.size}<br>ISO_Apha3=%{location}",
           "hovertext": [
            "Brazil",
            "Ecuador"
           ],
           "legendgroup": "South America",
           "locations": [
            "BRA",
            "ECU"
           ],
           "marker": {
            "color": "#FFA15A",
            "size": [
             0,
             0
            ],
            "sizemode": "area",
            "sizeref": 982.3775
           },
           "name": "South America",
           "showlegend": true,
           "type": "scattergeo"
          },
          {
           "geo": "geo",
           "hoverlabel": {
            "namelength": 0
           },
           "hovertemplate": "<b>%{hovertext}</b><br><br>Continent=North America<br>Period=2020-01-01<br>cases=%{marker.size}<br>ISO_Apha3=%{location}",
           "hovertext": [
            "Canada",
            "Dominican_Republic",
            "Mexico",
            "United_States_of_America"
           ],
           "legendgroup": "North America",
           "locations": [
            "CAN",
            "DOM",
            "MEX",
            "USA"
           ],
           "marker": {
            "color": "#19d3f3",
            "size": [
             3,
             0,
             0,
             6
            ],
            "sizemode": "area",
            "sizeref": 982.3775
           },
           "name": "North America",
           "showlegend": true,
           "type": "scattergeo"
          }
         ],
         "name": "2020-01-01"
        },
        {
         "data": [
          {
           "geo": "geo",
           "hoverlabel": {
            "namelength": 0
           },
           "hovertemplate": "<b>%{hovertext}</b><br><br>Continent=Asia<br>Period=2020-02-01<br>cases=%{marker.size}<br>ISO_Apha3=%{location}",
           "hovertext": [
            "Afghanistan",
            "Armenia",
            "Azerbaijan",
            "Bahrain",
            "Cambodia",
            "China",
            "Georgia",
            "India",
            "Indonesia",
            "Iran",
            "Iraq",
            "Israel",
            "Japan",
            "Kuwait",
            "Lebanon",
            "Malaysia",
            "Nepal",
            "Oman",
            "Pakistan",
            "Philippines",
            "Qatar",
            "Singapore",
            "South_Korea",
            "Sri_Lanka",
            "Taiwan",
            "Thailand",
            "United_Arab_Emirates",
            "Vietnam"
           ],
           "legendgroup": "Asia",
           "locations": [
            "AFG",
            "ARM",
            "AZE",
            "BHR",
            "KHM",
            "CHN",
            "GEO",
            "IND",
            "IDN",
            "IRN",
            "IRQ",
            "ISR",
            "JPN",
            "KWT",
            "LBN",
            "MYS",
            "NPL",
            "OMN",
            "PAK",
            "PHL",
            "QAT",
            "SGP",
            "KOR",
            "LKA",
            "TWN",
            "THA",
            "ARE",
            "VNM"
           ],
           "marker": {
            "color": "#636efa",
            "size": [
             1,
             0,
             1,
             38,
             0,
             69641,
             2,
             2,
             0,
             388,
             7,
             7,
             216,
             45,
             3,
             17,
             0,
             6,
             2,
             2,
             0,
             85,
             2924,
             0,
             30,
             28,
             15,
             11
            ],
            "sizemode": "area",
            "sizeref": 982.3775
           },
           "name": "Asia",
           "showlegend": true,
           "type": "scattergeo"
          },
          {
           "geo": "geo",
           "hoverlabel": {
            "namelength": 0
           },
           "hovertemplate": "<b>%{hovertext}</b><br><br>Continent=Africa<br>Period=2020-02-01<br>cases=%{marker.size}<br>ISO_Apha3=%{location}",
           "hovertext": [
            "Algeria",
            "Egypt",
            "Nigeria"
           ],
           "legendgroup": "Africa",
           "locations": [
            "DZA",
            "EGY",
            "NGA"
           ],
           "marker": {
            "color": "#EF553B",
            "size": [
             1,
             1,
             1
            ],
            "sizemode": "area",
            "sizeref": 982.3775
           },
           "name": "Africa",
           "showlegend": true,
           "type": "scattergeo"
          },
          {
           "geo": "geo",
           "hoverlabel": {
            "namelength": 0
           },
           "hovertemplate": "<b>%{hovertext}</b><br><br>Continent=Oceania<br>Period=2020-02-01<br>cases=%{marker.size}<br>ISO_Apha3=%{location}",
           "hovertext": [
            "Australia",
            "New_Zealand"
           ],
           "legendgroup": "Oceania",
           "locations": [
            "AUS",
            "NZL"
           ],
           "marker": {
            "color": "#00cc96",
            "size": [
             18,
             1
            ],
            "sizemode": "area",
            "sizeref": 982.3775
           },
           "name": "Oceania",
           "showlegend": true,
           "type": "scattergeo"
          },
          {
           "geo": "geo",
           "hoverlabel": {
            "namelength": 0
           },
           "hovertemplate": "<b>%{hovertext}</b><br><br>Continent=Europe<br>Period=2020-02-01<br>cases=%{marker.size}<br>ISO_Apha3=%{location}",
           "hovertext": [
            "Austria",
            "Belarus",
            "Belgium",
            "Croatia",
            "Denmark",
            "Estonia",
            "Finland",
            "France",
            "Germany",
            "Greece",
            "Iceland",
            "Ireland",
            "Italy",
            "Lithuania",
            "Luxembourg",
            "Monaco",
            "Netherlands",
            "North_Macedonia",
            "Norway",
            "Romania",
            "Russia",
            "San_Marino",
            "Spain",
            "Sweden",
            "Switzerland",
            "United_Kingdom"
           ],
           "legendgroup": "Europe",
           "locations": [
            "AUT",
            "BLR",
            "BEL",
            "HRV",
            "DNK",
            "EST",
            "FIN",
            "FRA",
            "DEU",
            "GRC",
            "ISL",
            "IRL",
            "ITA",
            "LTU",
            "LUX",
            "MCO",
            "NLD",
            "MKD",
            "NOR",
            "ROU",
            "RUS",
            "SMR",
            "ESP",
            "SWE",
            "CHE",
            "GBR"
           ],
           "marker": {
            "color": "#ab63fa",
            "size": [
             7,
             1,
             1,
             5,
             2,
             1,
             2,
             51,
             52,
             4,
             1,
             0,
             885,
             1,
             0,
             1,
             2,
             1,
             6,
             3,
             2,
             1,
             34,
             12,
             12,
             16
            ],
            "sizemode": "area",
            "sizeref": 982.3775
           },
           "name": "Europe",
           "showlegend": true,
           "type": "scattergeo"
          },
          {
           "geo": "geo",
           "hoverlabel": {
            "namelength": 0
           },
           "hovertemplate": "<b>%{hovertext}</b><br><br>Continent=South America<br>Period=2020-02-01<br>cases=%{marker.size}<br>ISO_Apha3=%{location}",
           "hovertext": [
            "Brazil",
            "Ecuador"
           ],
           "legendgroup": "South America",
           "locations": [
            "BRA",
            "ECU"
           ],
           "marker": {
            "color": "#FFA15A",
            "size": [
             1,
             0
            ],
            "sizemode": "area",
            "sizeref": 982.3775
           },
           "name": "South America",
           "showlegend": true,
           "type": "scattergeo"
          },
          {
           "geo": "geo",
           "hoverlabel": {
            "namelength": 0
           },
           "hovertemplate": "<b>%{hovertext}</b><br><br>Continent=North America<br>Period=2020-02-01<br>cases=%{marker.size}<br>ISO_Apha3=%{location}",
           "hovertext": [
            "Canada",
            "Dominican_Republic",
            "Mexico",
            "United_States_of_America"
           ],
           "legendgroup": "North America",
           "locations": [
            "CAN",
            "DOM",
            "MEX",
            "USA"
           ],
           "marker": {
            "color": "#19d3f3",
            "size": [
             13,
             0,
             2,
             60
            ],
            "sizemode": "area",
            "sizeref": 982.3775
           },
           "name": "North America",
           "showlegend": true,
           "type": "scattergeo"
          }
         ],
         "name": "2020-02-01"
        },
        {
         "data": [
          {
           "geo": "geo",
           "hoverlabel": {
            "namelength": 0
           },
           "hovertemplate": "<b>%{hovertext}</b><br><br>Continent=Asia<br>Period=2020-03-01<br>cases=%{marker.size}<br>ISO_Apha3=%{location}",
           "hovertext": [
            "Afghanistan",
            "Armenia",
            "Azerbaijan",
            "Bahrain",
            "Bangladesh",
            "Bhutan",
            "Brunei_Darussalam",
            "Cambodia",
            "China",
            "Cyprus",
            "Georgia",
            "India",
            "Indonesia",
            "Iran",
            "Iraq",
            "Israel",
            "Japan",
            "Jordan",
            "Kazakhstan",
            "Kuwait",
            "Kyrgyzstan",
            "Laos",
            "Lebanon",
            "Malaysia",
            "Maldives",
            "Mongolia",
            "Myanmar",
            "Nepal",
            "Oman",
            "Pakistan",
            "Palestine",
            "Philippines",
            "Qatar",
            "Saudi_Arabia",
            "Singapore",
            "South_Korea",
            "Sri_Lanka",
            "Syria",
            "Taiwan",
            "Thailand",
            "Timor_Leste",
            "Turkey",
            "United_Arab_Emirates",
            "Uzbekistan",
            "Vietnam"
           ],
           "legendgroup": "Asia",
           "locations": [
            "AFG",
            "ARM",
            "AZE",
            "BHR",
            "BGD",
            "BTN",
            "BRN",
            "KHM",
            "CHN",
            "CYP",
            "GEO",
            "IND",
            "IDN",
            "IRN",
            "IRQ",
            "ISR",
            "JPN",
            "JOR",
            "KAZ",
            "KWT",
            "KGZ",
            "LAO",
            "LBN",
            "MYS",
            "MDV",
            "MNG",
            "MMR",
            "NPL",
            "OMN",
            "PAK",
            "PSE",
            "PHL",
            "QAT",
            "SAU",
            "SGP",
            "KOR",
            "LKA",
            "SYR",
            "TWN",
            "THA",
            "TLS",
            "TUR",
            "ARE",
            "UZB",
            "VNM"
           ],
           "marker": {
            "color": "#636efa",
            "size": [
             140,
             482,
             272,
             477,
             49,
             4,
             127,
             108,
             2886,
             230,
             96,
             1248,
             1414,
             41107,
             623,
             4466,
             1723,
             268,
             325,
             221,
             84,
             9,
             443,
             2601,
             17,
             12,
             14,
             4,
             173,
             1623,
             115,
             2081,
             693,
             1453,
             746,
             6855,
             119,
             10,
             267,
             1609,
             1,
             10827,
             592,
             149,
             213
            ],
            "sizemode": "area",
            "sizeref": 982.3775
           },
           "name": "Asia",
           "showlegend": true,
           "type": "scattergeo"
          },
          {
           "geo": "geo",
           "hoverlabel": {
            "namelength": 0
           },
           "hovertemplate": "<b>%{hovertext}</b><br><br>Continent=Africa<br>Period=2020-03-01<br>cases=%{marker.size}<br>ISO_Apha3=%{location}",
           "hovertext": [
            "Algeria",
            "Angola",
            "Benin",
            "Burkina_Faso",
            "Cameroon",
            "Cape_Verde",
            "Central_African_Republic",
            "Chad",
            "Congo",
            "Cote_dIvoire",
            "Democratic_Republic_of_the_Congo",
            "Djibouti",
            "Egypt",
            "Equatorial_Guinea",
            "Eritrea",
            "Eswatini",
            "Ethiopia",
            "Gabon",
            "Gambia",
            "Ghana",
            "Guinea",
            "Guinea_Bissau",
            "Kenya",
            "Liberia",
            "Libya",
            "Madagascar",
            "Mali",
            "Mauritania",
            "Mauritius",
            "Morocco",
            "Mozambique",
            "Niger",
            "Nigeria",
            "Rwanda",
            "Senegal",
            "Seychelles",
            "Somalia",
            "South_Africa",
            "Sudan",
            "Togo",
            "Tunisia",
            "Uganda",
            "United_Republic_of_Tanzania",
            "Zambia",
            "Zimbabwe"
           ],
           "legendgroup": "Africa",
           "locations": [
            "DZA",
            "AGO",
            "BEN",
            "BFA",
            "CMR",
            "CPV",
            "CAF",
            "TCD",
            "COG",
            "CIV",
            "COD",
            "DJI",
            "EGY",
            "GNQ",
            "ERI",
            "SWZ",
            "ETH",
            "GAB",
            "GMB",
            "GHA",
            "GIN",
            "GNB",
            "KEN",
            "LBR",
            "LBY",
            "MDG",
            "MLI",
            "MRT",
            "MUS",
            "MAR",
            "MOZ",
            "NER",
            "NGA",
            "RWA",
            "SEN",
            "SYC",
            "SOM",
            "ZAF",
            "SDN",
            "TGO",
            "TUN",
            "UGA",
            "TZA",
            "ZMB",
            "ZWE"
           ],
           "marker": {
            "color": "#EF553B",
            "size": [
             510,
             7,
             6,
             222,
             142,
             5,
             6,
             7,
             19,
             168,
             98,
             26,
             608,
             14,
             12,
             9,
             23,
             7,
             4,
             152,
             16,
             2,
             50,
             3,
             8,
             44,
             18,
             5,
             128,
             556,
             8,
             20,
             130,
             70,
             162,
             10,
             3,
             1326,
             6,
             34,
             312,
             33,
             19,
             35,
             7
            ],
            "sizemode": "area",
            "sizeref": 982.3775
           },
           "name": "Africa",
           "showlegend": true,
           "type": "scattergeo"
          },
          {
           "geo": "geo",
           "hoverlabel": {
            "namelength": 0
           },
           "hovertemplate": "<b>%{hovertext}</b><br><br>Continent=Oceania<br>Period=2020-03-01<br>cases=%{marker.size}<br>ISO_Apha3=%{location}",
           "hovertext": [
            "Australia",
            "Fiji",
            "French_Polynesia",
            "Guam",
            "New_Caledonia",
            "New_Zealand",
            "Northern_Mariana_Islands",
            "Papua_New_Guinea"
           ],
           "legendgroup": "Oceania",
           "locations": [
            "AUS",
            "FJI",
            "PYF",
            "GUM",
            "NCL",
            "NZL",
            "MNP",
            "PNG"
           ],
           "marker": {
            "color": "#00cc96",
            "size": [
             4532,
             5,
             36,
             60,
             16,
             646,
             2,
             1
            ],
            "sizemode": "area",
            "sizeref": 982.3775
           },
           "name": "Oceania",
           "showlegend": true,
           "type": "scattergeo"
          },
          {
           "geo": "geo",
           "hoverlabel": {
            "namelength": 0
           },
           "hovertemplate": "<b>%{hovertext}</b><br><br>Continent=Europe<br>Period=2020-03-01<br>cases=%{marker.size}<br>ISO_Apha3=%{location}",
           "hovertext": [
            "Albania",
            "Andorra",
            "Austria",
            "Belarus",
            "Belgium",
            "Bosnia_and_Herzegovina",
            "Bulgaria",
            "Croatia",
            "Denmark",
            "Estonia",
            "Faroe_Islands",
            "Finland",
            "France",
            "Germany",
            "Gibraltar",
            "Greece",
            "Guernsey",
            "Holy_See",
            "Hungary",
            "Iceland",
            "Ireland",
            "Isle_of_Man",
            "Italy",
            "Jersey",
            "Kosovo",
            "Latvia",
            "Liechtenstein",
            "Lithuania",
            "Luxembourg",
            "Malta",
            "Moldova",
            "Monaco",
            "Montenegro",
            "Netherlands",
            "North_Macedonia",
            "Norway",
            "Poland",
            "Portugal",
            "Romania",
            "Russia",
            "San_Marino",
            "Serbia",
            "Slovakia",
            "Slovenia",
            "Spain",
            "Sweden",
            "Switzerland",
            "Ukraine",
            "United_Kingdom"
           ],
           "legendgroup": "Europe",
           "locations": [
            "ALB",
            "AND",
            "AUT",
            "BLR",
            "BEL",
            "BIH",
            "BGR",
            "HRV",
            "DNK",
            "EST",
            "FRO",
            "FIN",
            "FRA",
            "DEU",
            "GIB",
            "GRC",
            "GGY",
            "VAT",
            "HUN",
            "ISL",
            "IRL",
            "IMN",
            "ITA",
            "JEY",
            "XKX",
            "LVA",
            "LIE",
            "LTU",
            "LUX",
            "MLT",
            "MDA",
            "MCO",
            "MNE",
            "NLD",
            "MKD",
            "NOR",
            "POL",
            "PRT",
            "ROU",
            "RUS",
            "SMR",
            "SRB",
            "SVK",
            "SVN",
            "ESP",
            "SWE",
            "CHE",
            "UKR",
            "GBR"
           ],
           "marker": {
            "color": "#ab63fa",
            "size": [
             223,
             370,
             9611,
             104,
             11898,
             353,
             359,
             785,
             2575,
             714,
             168,
             1310,
             44493,
             61856,
             69,
             1208,
             45,
             6,
             492,
             1085,
             2910,
             42,
             100851,
             63,
             106,
             376,
             64,
             483,
             1988,
             156,
             298,
             48,
             91,
             11748,
             284,
             4220,
             2055,
             6408,
             1949,
             1834,
             228,
             741,
             336,
             763,
             85161,
             4016,
             15400,
             480,
             22123
            ],
            "sizemode": "area",
            "sizeref": 982.3775
           },
           "name": "Europe",
           "showlegend": true,
           "type": "scattergeo"
          },
          {
           "geo": "geo",
           "hoverlabel": {
            "namelength": 0
           },
           "hovertemplate": "<b>%{hovertext}</b><br><br>Continent=South America<br>Period=2020-03-01<br>cases=%{marker.size}<br>ISO_Apha3=%{location}",
           "hovertext": [
            "Argentina",
            "Bolivia",
            "Brazil",
            "Chile",
            "Colombia",
            "Ecuador",
            "Guyana",
            "Paraguay",
            "Peru",
            "Suriname",
            "Uruguay",
            "Venezuela"
           ],
           "legendgroup": "South America",
           "locations": [
            "ARG",
            "BOL",
            "BRA",
            "CHL",
            "COL",
            "ECU",
            "GUY",
            "PRY",
            "PER",
            "SUR",
            "URY",
            "VEN"
           ],
           "marker": {
            "color": "#FFA15A",
            "size": [
             966,
             107,
             4578,
             2449,
             798,
             1966,
             8,
             65,
             950,
             8,
             320,
             135
            ],
            "sizemode": "area",
            "sizeref": 982.3775
           },
           "name": "South America",
           "showlegend": true,
           "type": "scattergeo"
          },
          {
           "geo": "geo",
           "hoverlabel": {
            "namelength": 0
           },
           "hovertemplate": "<b>%{hovertext}</b><br><br>Continent=North America<br>Period=2020-03-01<br>cases=%{marker.size}<br>ISO_Apha3=%{location}",
           "hovertext": [
            "Antigua_and_Barbuda",
            "Aruba",
            "Bahamas",
            "Barbados",
            "Belize",
            "Bermuda",
            "British_Virgin_Islands",
            "Canada",
            "Cayman_Islands",
            "Costa_Rica",
            "Cuba",
            "Curaçao",
            "Dominica",
            "Dominican_Republic",
            "El_Salvador",
            "Greenland",
            "Grenada",
            "Guatemala",
            "Haiti",
            "Honduras",
            "Jamaica",
            "Mexico",
            "Montserrat",
            "Nicaragua",
            "Panama",
            "Puerto_Rico",
            "Saint_Kitts_and_Nevis",
            "Saint_Lucia",
            "Saint_Vincent_and_the_Grenadines",
            "Sint_Maarten",
            "Trinidad_and_Tobago",
            "Turks_and_Caicos_islands",
            "United_States_Virgin_Islands",
            "United_States_of_America"
           ],
           "legendgroup": "North America",
           "locations": [
            "ATG",
            "ABW",
            "BHS",
            "BRB",
            "BLZ",
            "BMU",
            "VGB",
            "CAN",
            "CYM",
            "CRI",
            "CUB",
            "CUW",
            "DMA",
            "DOM",
            "SLV",
            "GRL",
            "GRD",
            "GTM",
            "HTI",
            "HND",
            "JAM",
            "MEX",
            "MSR",
            "NIC",
            "PAN",
            "PRI",
            "KNA",
            "LCA",
            "VCT",
            "SXM",
            "TTO",
            "TCA",
            "VIR",
            "USA"
           ],
           "marker": {
            "color": "#19d3f3",
            "size": [
             7,
             50,
             14,
             34,
             3,
             27,
             3,
             7408,
             12,
             330,
             170,
             9,
             11,
             901,
             32,
             10,
             9,
             36,
             15,
             141,
             38,
             1092,
             5,
             4,
             1075,
             174,
             7,
             9,
             1,
             3,
             85,
             5,
             30,
             164554
            ],
            "sizemode": "area",
            "sizeref": 982.3775
           },
           "name": "North America",
           "showlegend": true,
           "type": "scattergeo"
          }
         ],
         "name": "2020-03-01"
        },
        {
         "data": [
          {
           "geo": "geo",
           "hoverlabel": {
            "namelength": 0
           },
           "hovertemplate": "<b>%{hovertext}</b><br><br>Continent=Asia<br>Period=2020-04-01<br>cases=%{marker.size}<br>ISO_Apha3=%{location}",
           "hovertext": [
            "Afghanistan",
            "Armenia",
            "Azerbaijan",
            "Bahrain",
            "Bangladesh",
            "Bhutan",
            "Brunei_Darussalam",
            "Cambodia",
            "China",
            "Cyprus",
            "Georgia",
            "India",
            "Indonesia",
            "Iran",
            "Iraq",
            "Israel",
            "Japan",
            "Jordan",
            "Kazakhstan",
            "Kuwait",
            "Kyrgyzstan",
            "Laos",
            "Lebanon",
            "Malaysia",
            "Maldives",
            "Mongolia",
            "Myanmar",
            "Nepal",
            "Oman",
            "Pakistan",
            "Palestine",
            "Philippines",
            "Qatar",
            "Saudi_Arabia",
            "Singapore",
            "South_Korea",
            "Sri_Lanka",
            "Syria",
            "Taiwan",
            "Thailand",
            "Timor_Leste",
            "Turkey",
            "United_Arab_Emirates",
            "Uzbekistan",
            "Vietnam",
            "Yemen"
           ],
           "legendgroup": "Asia",
           "locations": [
            "AFG",
            "ARM",
            "AZE",
            "BHR",
            "BGD",
            "BTN",
            "BRN",
            "KHM",
            "CHN",
            "CYP",
            "GEO",
            "IND",
            "IDN",
            "IRN",
            "IRQ",
            "ISR",
            "JPN",
            "JOR",
            "KAZ",
            "KWT",
            "KGZ",
            "LAO",
            "LBN",
            "MYS",
            "MDV",
            "MNG",
            "MMR",
            "NPL",
            "OMN",
            "PAK",
            "PSE",
            "PHL",
            "QAT",
            "SAU",
            "SGP",
            "KOR",
            "LKA",
            "SYR",
            "TWN",
            "THA",
            "TLS",
            "TUR",
            "ARE",
            "UZB",
            "VNM",
            "YEM"
           ],
           "marker": {
            "color": "#636efa",
            "size": [
             466,
             531,
             825,
             621,
             572,
             1,
             9,
             13,
             968,
             403,
             159,
             7901,
             2827,
             30191,
             722,
             6672,
             5302,
             121,
             636,
             968,
             335,
             10,
             184,
             2057,
             3,
             4,
             27,
             7,
             420,
             3749,
             153,
             2564,
             2286,
             3009,
             1688,
             751,
             90,
             15,
             82,
             928,
             1,
             46129,
             3512,
             716,
             33,
             1
            ],
            "sizemode": "area",
            "sizeref": 982.3775
           },
           "name": "Asia",
           "showlegend": true,
           "type": "scattergeo"
          },
          {
           "geo": "geo",
           "hoverlabel": {
            "namelength": 0
           },
           "hovertemplate": "<b>%{hovertext}</b><br><br>Continent=Africa<br>Period=2020-04-01<br>cases=%{marker.size}<br>ISO_Apha3=%{location}",
           "hovertext": [
            "Algeria",
            "Angola",
            "Benin",
            "Botswana",
            "Burkina_Faso",
            "Burundi",
            "Cameroon",
            "Cape_Verde",
            "Central_African_Republic",
            "Chad",
            "Congo",
            "Cote_dIvoire",
            "Democratic_Republic_of_the_Congo",
            "Djibouti",
            "Egypt",
            "Equatorial_Guinea",
            "Eritrea",
            "Eswatini",
            "Ethiopia",
            "Gabon",
            "Gambia",
            "Ghana",
            "Guinea",
            "Guinea_Bissau",
            "Kenya",
            "Liberia",
            "Libya",
            "Madagascar",
            "Malawi",
            "Mali",
            "Mauritania",
            "Mauritius",
            "Morocco",
            "Mozambique",
            "Niger",
            "Nigeria",
            "Rwanda",
            "Sao_Tome_and_Principe",
            "Senegal",
            "Seychelles",
            "Sierra_Leone",
            "Somalia",
            "South_Africa",
            "South_Sudan",
            "Sudan",
            "Togo",
            "Tunisia",
            "Uganda",
            "United_Republic_of_Tanzania",
            "Zambia",
            "Zimbabwe"
           ],
           "legendgroup": "Africa",
           "locations": [
            "DZA",
            "AGO",
            "BEN",
            "BWA",
            "BFA",
            "BDI",
            "CMR",
            "CPV",
            "CAF",
            "TCD",
            "COG",
            "CIV",
            "COD",
            "DJI",
            "EGY",
            "GNQ",
            "ERI",
            "SWZ",
            "ETH",
            "GAB",
            "GMB",
            "GHA",
            "GIN",
            "GNB",
            "KEN",
            "LBR",
            "LBY",
            "MDG",
            "MWI",
            "MLI",
            "MRT",
            "MUS",
            "MAR",
            "MOZ",
            "NER",
            "NGA",
            "RWA",
            "STP",
            "SEN",
            "SYC",
            "SLE",
            "SOM",
            "ZAF",
            "SSD",
            "SDN",
            "TGO",
            "TUN",
            "UGA",
            "TZA",
            "ZMB",
            "ZWE"
           ],
           "marker": {
            "color": "#EF553B",
            "size": [
             1403,
             12,
             29,
             13,
             275,
             5,
             678,
             5,
             5,
             8,
             51,
             406,
             136,
             188,
             1456,
             7,
             22,
             5,
             48,
             50,
             5,
             414,
             234,
             37,
             147,
             47,
             17,
             62,
             13,
             98,
             2,
             196,
             1105,
             13,
             509,
             192,
             56,
             4,
             118,
             0,
             10,
             22,
             847,
             4,
             13,
             42,
             395,
             21,
             13,
             8,
             7
            ],
            "sizemode": "area",
            "sizeref": 982.3775
           },
           "name": "Africa",
           "showlegend": true,
           "type": "scattergeo"
          },
          {
           "geo": "geo",
           "hoverlabel": {
            "namelength": 0
           },
           "hovertemplate": "<b>%{hovertext}</b><br><br>Continent=Oceania<br>Period=2020-04-01<br>cases=%{marker.size}<br>ISO_Apha3=%{location}",
           "hovertext": [
            "Australia",
            "Fiji",
            "French_Polynesia",
            "Guam",
            "New_Caledonia",
            "New_Zealand",
            "Northern_Mariana_Islands",
            "Papua_New_Guinea"
           ],
           "legendgroup": "Oceania",
           "locations": [
            "AUS",
            "FJI",
            "PYF",
            "GUM",
            "NCL",
            "NZL",
            "MNP",
            "PNG"
           ],
           "marker": {
            "color": "#00cc96",
            "size": [
             1765,
             11,
             17,
             73,
             2,
             417,
             9,
             1
            ],
            "sizemode": "area",
            "sizeref": 982.3775
           },
           "name": "Oceania",
           "showlegend": true,
           "type": "scattergeo"
          },
          {
           "geo": "geo",
           "hoverlabel": {
            "namelength": 0
           },
           "hovertemplate": "<b>%{hovertext}</b><br><br>Continent=Europe<br>Period=2020-04-01<br>cases=%{marker.size}<br>ISO_Apha3=%{location}",
           "hovertext": [
            "Albania",
            "Andorra",
            "Austria",
            "Belarus",
            "Belgium",
            "Bosnia_and_Herzegovina",
            "Bulgaria",
            "Croatia",
            "Denmark",
            "Estonia",
            "Faroe_Islands",
            "Finland",
            "France",
            "Germany",
            "Gibraltar",
            "Greece",
            "Guernsey",
            "Holy_See",
            "Hungary",
            "Iceland",
            "Ireland",
            "Isle_of_Man",
            "Italy",
            "Jersey",
            "Kosovo",
            "Latvia",
            "Liechtenstein",
            "Lithuania",
            "Luxembourg",
            "Malta",
            "Moldova",
            "Monaco",
            "Montenegro",
            "Netherlands",
            "North_Macedonia",
            "Norway",
            "Poland",
            "Portugal",
            "Romania",
            "Russia",
            "San_Marino",
            "Serbia",
            "Slovakia",
            "Slovenia",
            "Spain",
            "Sweden",
            "Switzerland",
            "Ukraine",
            "United_Kingdom"
           ],
           "legendgroup": "Europe",
           "locations": [
            "ALB",
            "AND",
            "AUT",
            "BLR",
            "BEL",
            "BIH",
            "BGR",
            "HRV",
            "DNK",
            "EST",
            "FRO",
            "FIN",
            "FRA",
            "DEU",
            "GIB",
            "GRC",
            "GGY",
            "VAT",
            "HUN",
            "ISL",
            "IRL",
            "IMN",
            "ITA",
            "JEY",
            "XKX",
            "LVA",
            "LIE",
            "LTU",
            "LUX",
            "MLT",
            "MDA",
            "MCO",
            "MNE",
            "NLD",
            "MKD",
            "NOR",
            "POL",
            "PRT",
            "ROU",
            "RUS",
            "SMR",
            "SRB",
            "SVK",
            "SVN",
            "ESP",
            "SWE",
            "CHE",
            "UKR",
            "GBR"
           ],
           "marker": {
            "color": "#ab63fa",
            "size": [
             223,
             268,
             4319,
             2473,
             17748,
             654,
             316,
             810,
             3597,
             594,
             16,
             1661,
             50853,
             61103,
             60,
             902,
             173,
             2,
             966,
             615,
             6745,
             186,
             54624,
             150,
             256,
             275,
             16,
             578,
             1293,
             222,
             1364,
             44,
             181,
             13837,
             543,
             2189,
             4619,
             10177,
             4348,
             13934,
             127,
             2889,
             406,
             442,
             80824,
             6455,
             9808,
             2297,
             62138
            ],
            "sizemode": "area",
            "sizeref": 982.3775
           },
           "name": "Europe",
           "showlegend": true,
           "type": "scattergeo"
          },
          {
           "geo": "geo",
           "hoverlabel": {
            "namelength": 0
           },
           "hovertemplate": "<b>%{hovertext}</b><br><br>Continent=South America<br>Period=2020-04-01<br>cases=%{marker.size}<br>ISO_Apha3=%{location}",
           "hovertext": [
            "Argentina",
            "Bolivia",
            "Brazil",
            "Chile",
            "Colombia",
            "Ecuador",
            "Guyana",
            "Paraguay",
            "Peru",
            "Suriname",
            "Uruguay",
            "Venezuela"
           ],
           "legendgroup": "South America",
           "locations": [
            "ARG",
            "BOL",
            "BRA",
            "CHL",
            "COL",
            "ECU",
            "GUY",
            "PRY",
            "PER",
            "SUR",
            "URY",
            "VEN"
           ],
           "marker": {
            "color": "#FFA15A",
            "size": [
             1242,
             223,
             17590,
             4764,
             1978,
             5500,
             37,
             82,
             6569,
             2,
             192,
             46
            ],
            "sizemode": "area",
            "sizeref": 982.3775
           },
           "name": "South America",
           "showlegend": true,
           "type": "scattergeo"
          },
          {
           "geo": "geo",
           "hoverlabel": {
            "namelength": 0
           },
           "hovertemplate": "<b>%{hovertext}</b><br><br>Continent=North America<br>Period=2020-04-01<br>cases=%{marker.size}<br>ISO_Apha3=%{location}",
           "hovertext": [
            "Antigua_and_Barbuda",
            "Aruba",
            "Bahamas",
            "Barbados",
            "Belize",
            "Bermuda",
            "British_Virgin_Islands",
            "Canada",
            "Cayman_Islands",
            "Costa_Rica",
            "Cuba",
            "Curaçao",
            "Dominica",
            "Dominican_Republic",
            "El_Salvador",
            "Greenland",
            "Grenada",
            "Guatemala",
            "Haiti",
            "Honduras",
            "Jamaica",
            "Mexico",
            "Montserrat",
            "Nicaragua",
            "Panama",
            "Puerto_Rico",
            "Saint_Kitts_and_Nevis",
            "Saint_Lucia",
            "Saint_Vincent_and_the_Grenadines",
            "Sint_Maarten",
            "Trinidad_and_Tobago",
            "Turks_and_Caicos_islands",
            "United_States_Virgin_Islands",
            "United_States_of_America"
           ],
           "legendgroup": "North America",
           "locations": [
            "ATG",
            "ABW",
            "BHS",
            "BRB",
            "BLZ",
            "BMU",
            "VGB",
            "CAN",
            "CYM",
            "CRI",
            "CUB",
            "CUW",
            "DMA",
            "DOM",
            "SLV",
            "GRL",
            "GRD",
            "GTM",
            "HTI",
            "HND",
            "JAM",
            "MEX",
            "MSR",
            "NIC",
            "PAN",
            "PRI",
            "KNA",
            "LCA",
            "VCT",
            "SXM",
            "TTO",
            "TCA",
            "VIR",
            "USA"
           ],
           "marker": {
            "color": "#19d3f3",
            "size": [
             14,
             42,
             33,
             37,
             11,
             30,
             0,
             16941,
             41,
             265,
             499,
             5,
             5,
             2066,
             93,
             1,
             5,
             120,
             18,
             256,
             34,
             3567,
             6,
             7,
             2325,
             723,
             5,
             6,
             11,
             47,
             28,
             4,
             21,
             392951
            ],
            "sizemode": "area",
            "sizeref": 982.3775
           },
           "name": "North America",
           "showlegend": true,
           "type": "scattergeo"
          }
         ],
         "name": "2020-04-01"
        }
       ],
       "layout": {
        "geo": {
         "center": {},
         "domain": {
          "x": [
           0,
           1
          ],
          "y": [
           0,
           1
          ]
         },
         "projection": {
          "type": "natural earth"
         }
        },
        "legend": {
         "itemsizing": "constant",
         "title": {
          "text": "Continent"
         },
         "tracegroupgap": 0
        },
        "margin": {
         "t": 60
        },
        "sliders": [
         {
          "active": 0,
          "currentvalue": {
           "prefix": "Period="
          },
          "len": 0.9,
          "pad": {
           "b": 10,
           "t": 60
          },
          "steps": [
           {
            "args": [
             [
              "2019-12-01"
             ],
             {
              "frame": {
               "duration": 0,
               "redraw": true
              },
              "fromcurrent": true,
              "mode": "immediate",
              "transition": {
               "duration": 0,
               "easing": "linear"
              }
             }
            ],
            "label": "2019-12-01",
            "method": "animate"
           },
           {
            "args": [
             [
              "2020-01-01"
             ],
             {
              "frame": {
               "duration": 0,
               "redraw": true
              },
              "fromcurrent": true,
              "mode": "immediate",
              "transition": {
               "duration": 0,
               "easing": "linear"
              }
             }
            ],
            "label": "2020-01-01",
            "method": "animate"
           },
           {
            "args": [
             [
              "2020-02-01"
             ],
             {
              "frame": {
               "duration": 0,
               "redraw": true
              },
              "fromcurrent": true,
              "mode": "immediate",
              "transition": {
               "duration": 0,
               "easing": "linear"
              }
             }
            ],
            "label": "2020-02-01",
            "method": "animate"
           },
           {
            "args": [
             [
              "2020-03-01"
             ],
             {
              "frame": {
               "duration": 0,
               "redraw": true
              },
              "fromcurrent": true,
              "mode": "immediate",
              "transition": {
               "duration": 0,
               "easing": "linear"
              }
             }
            ],
            "label": "2020-03-01",
            "method": "animate"
           },
           {
            "args": [
             [
              "2020-04-01"
             ],
             {
              "frame": {
               "duration": 0,
               "redraw": true
              },
              "fromcurrent": true,
              "mode": "immediate",
              "transition": {
               "duration": 0,
               "easing": "linear"
              }
             }
            ],
            "label": "2020-04-01",
            "method": "animate"
           }
          ],
          "x": 0.1,
          "xanchor": "left",
          "y": 0,
          "yanchor": "top"
         }
        ],
        "template": {
         "data": {
          "bar": [
           {
            "error_x": {
             "color": "#2a3f5f"
            },
            "error_y": {
             "color": "#2a3f5f"
            },
            "marker": {
             "line": {
              "color": "#E5ECF6",
              "width": 0.5
             }
            },
            "type": "bar"
           }
          ],
          "barpolar": [
           {
            "marker": {
             "line": {
              "color": "#E5ECF6",
              "width": 0.5
             }
            },
            "type": "barpolar"
           }
          ],
          "carpet": [
           {
            "aaxis": {
             "endlinecolor": "#2a3f5f",
             "gridcolor": "white",
             "linecolor": "white",
             "minorgridcolor": "white",
             "startlinecolor": "#2a3f5f"
            },
            "baxis": {
             "endlinecolor": "#2a3f5f",
             "gridcolor": "white",
             "linecolor": "white",
             "minorgridcolor": "white",
             "startlinecolor": "#2a3f5f"
            },
            "type": "carpet"
           }
          ],
          "choropleth": [
           {
            "colorbar": {
             "outlinewidth": 0,
             "ticks": ""
            },
            "type": "choropleth"
           }
          ],
          "contour": [
           {
            "colorbar": {
             "outlinewidth": 0,
             "ticks": ""
            },
            "colorscale": [
             [
              0,
              "#0d0887"
             ],
             [
              0.1111111111111111,
              "#46039f"
             ],
             [
              0.2222222222222222,
              "#7201a8"
             ],
             [
              0.3333333333333333,
              "#9c179e"
             ],
             [
              0.4444444444444444,
              "#bd3786"
             ],
             [
              0.5555555555555556,
              "#d8576b"
             ],
             [
              0.6666666666666666,
              "#ed7953"
             ],
             [
              0.7777777777777778,
              "#fb9f3a"
             ],
             [
              0.8888888888888888,
              "#fdca26"
             ],
             [
              1,
              "#f0f921"
             ]
            ],
            "type": "contour"
           }
          ],
          "contourcarpet": [
           {
            "colorbar": {
             "outlinewidth": 0,
             "ticks": ""
            },
            "type": "contourcarpet"
           }
          ],
          "heatmap": [
           {
            "colorbar": {
             "outlinewidth": 0,
             "ticks": ""
            },
            "colorscale": [
             [
              0,
              "#0d0887"
             ],
             [
              0.1111111111111111,
              "#46039f"
             ],
             [
              0.2222222222222222,
              "#7201a8"
             ],
             [
              0.3333333333333333,
              "#9c179e"
             ],
             [
              0.4444444444444444,
              "#bd3786"
             ],
             [
              0.5555555555555556,
              "#d8576b"
             ],
             [
              0.6666666666666666,
              "#ed7953"
             ],
             [
              0.7777777777777778,
              "#fb9f3a"
             ],
             [
              0.8888888888888888,
              "#fdca26"
             ],
             [
              1,
              "#f0f921"
             ]
            ],
            "type": "heatmap"
           }
          ],
          "heatmapgl": [
           {
            "colorbar": {
             "outlinewidth": 0,
             "ticks": ""
            },
            "colorscale": [
             [
              0,
              "#0d0887"
             ],
             [
              0.1111111111111111,
              "#46039f"
             ],
             [
              0.2222222222222222,
              "#7201a8"
             ],
             [
              0.3333333333333333,
              "#9c179e"
             ],
             [
              0.4444444444444444,
              "#bd3786"
             ],
             [
              0.5555555555555556,
              "#d8576b"
             ],
             [
              0.6666666666666666,
              "#ed7953"
             ],
             [
              0.7777777777777778,
              "#fb9f3a"
             ],
             [
              0.8888888888888888,
              "#fdca26"
             ],
             [
              1,
              "#f0f921"
             ]
            ],
            "type": "heatmapgl"
           }
          ],
          "histogram": [
           {
            "marker": {
             "colorbar": {
              "outlinewidth": 0,
              "ticks": ""
             }
            },
            "type": "histogram"
           }
          ],
          "histogram2d": [
           {
            "colorbar": {
             "outlinewidth": 0,
             "ticks": ""
            },
            "colorscale": [
             [
              0,
              "#0d0887"
             ],
             [
              0.1111111111111111,
              "#46039f"
             ],
             [
              0.2222222222222222,
              "#7201a8"
             ],
             [
              0.3333333333333333,
              "#9c179e"
             ],
             [
              0.4444444444444444,
              "#bd3786"
             ],
             [
              0.5555555555555556,
              "#d8576b"
             ],
             [
              0.6666666666666666,
              "#ed7953"
             ],
             [
              0.7777777777777778,
              "#fb9f3a"
             ],
             [
              0.8888888888888888,
              "#fdca26"
             ],
             [
              1,
              "#f0f921"
             ]
            ],
            "type": "histogram2d"
           }
          ],
          "histogram2dcontour": [
           {
            "colorbar": {
             "outlinewidth": 0,
             "ticks": ""
            },
            "colorscale": [
             [
              0,
              "#0d0887"
             ],
             [
              0.1111111111111111,
              "#46039f"
             ],
             [
              0.2222222222222222,
              "#7201a8"
             ],
             [
              0.3333333333333333,
              "#9c179e"
             ],
             [
              0.4444444444444444,
              "#bd3786"
             ],
             [
              0.5555555555555556,
              "#d8576b"
             ],
             [
              0.6666666666666666,
              "#ed7953"
             ],
             [
              0.7777777777777778,
              "#fb9f3a"
             ],
             [
              0.8888888888888888,
              "#fdca26"
             ],
             [
              1,
              "#f0f921"
             ]
            ],
            "type": "histogram2dcontour"
           }
          ],
          "mesh3d": [
           {
            "colorbar": {
             "outlinewidth": 0,
             "ticks": ""
            },
            "type": "mesh3d"
           }
          ],
          "parcoords": [
           {
            "line": {
             "colorbar": {
              "outlinewidth": 0,
              "ticks": ""
             }
            },
            "type": "parcoords"
           }
          ],
          "pie": [
           {
            "automargin": true,
            "type": "pie"
           }
          ],
          "scatter": [
           {
            "marker": {
             "colorbar": {
              "outlinewidth": 0,
              "ticks": ""
             }
            },
            "type": "scatter"
           }
          ],
          "scatter3d": [
           {
            "line": {
             "colorbar": {
              "outlinewidth": 0,
              "ticks": ""
             }
            },
            "marker": {
             "colorbar": {
              "outlinewidth": 0,
              "ticks": ""
             }
            },
            "type": "scatter3d"
           }
          ],
          "scattercarpet": [
           {
            "marker": {
             "colorbar": {
              "outlinewidth": 0,
              "ticks": ""
             }
            },
            "type": "scattercarpet"
           }
          ],
          "scattergeo": [
           {
            "marker": {
             "colorbar": {
              "outlinewidth": 0,
              "ticks": ""
             }
            },
            "type": "scattergeo"
           }
          ],
          "scattergl": [
           {
            "marker": {
             "colorbar": {
              "outlinewidth": 0,
              "ticks": ""
             }
            },
            "type": "scattergl"
           }
          ],
          "scattermapbox": [
           {
            "marker": {
             "colorbar": {
              "outlinewidth": 0,
              "ticks": ""
             }
            },
            "type": "scattermapbox"
           }
          ],
          "scatterpolar": [
           {
            "marker": {
             "colorbar": {
              "outlinewidth": 0,
              "ticks": ""
             }
            },
            "type": "scatterpolar"
           }
          ],
          "scatterpolargl": [
           {
            "marker": {
             "colorbar": {
              "outlinewidth": 0,
              "ticks": ""
             }
            },
            "type": "scatterpolargl"
           }
          ],
          "scatterternary": [
           {
            "marker": {
             "colorbar": {
              "outlinewidth": 0,
              "ticks": ""
             }
            },
            "type": "scatterternary"
           }
          ],
          "surface": [
           {
            "colorbar": {
             "outlinewidth": 0,
             "ticks": ""
            },
            "colorscale": [
             [
              0,
              "#0d0887"
             ],
             [
              0.1111111111111111,
              "#46039f"
             ],
             [
              0.2222222222222222,
              "#7201a8"
             ],
             [
              0.3333333333333333,
              "#9c179e"
             ],
             [
              0.4444444444444444,
              "#bd3786"
             ],
             [
              0.5555555555555556,
              "#d8576b"
             ],
             [
              0.6666666666666666,
              "#ed7953"
             ],
             [
              0.7777777777777778,
              "#fb9f3a"
             ],
             [
              0.8888888888888888,
              "#fdca26"
             ],
             [
              1,
              "#f0f921"
             ]
            ],
            "type": "surface"
           }
          ],
          "table": [
           {
            "cells": {
             "fill": {
              "color": "#EBF0F8"
             },
             "line": {
              "color": "white"
             }
            },
            "header": {
             "fill": {
              "color": "#C8D4E3"
             },
             "line": {
              "color": "white"
             }
            },
            "type": "table"
           }
          ]
         },
         "layout": {
          "annotationdefaults": {
           "arrowcolor": "#2a3f5f",
           "arrowhead": 0,
           "arrowwidth": 1
          },
          "coloraxis": {
           "colorbar": {
            "outlinewidth": 0,
            "ticks": ""
           }
          },
          "colorscale": {
           "diverging": [
            [
             0,
             "#8e0152"
            ],
            [
             0.1,
             "#c51b7d"
            ],
            [
             0.2,
             "#de77ae"
            ],
            [
             0.3,
             "#f1b6da"
            ],
            [
             0.4,
             "#fde0ef"
            ],
            [
             0.5,
             "#f7f7f7"
            ],
            [
             0.6,
             "#e6f5d0"
            ],
            [
             0.7,
             "#b8e186"
            ],
            [
             0.8,
             "#7fbc41"
            ],
            [
             0.9,
             "#4d9221"
            ],
            [
             1,
             "#276419"
            ]
           ],
           "sequential": [
            [
             0,
             "#0d0887"
            ],
            [
             0.1111111111111111,
             "#46039f"
            ],
            [
             0.2222222222222222,
             "#7201a8"
            ],
            [
             0.3333333333333333,
             "#9c179e"
            ],
            [
             0.4444444444444444,
             "#bd3786"
            ],
            [
             0.5555555555555556,
             "#d8576b"
            ],
            [
             0.6666666666666666,
             "#ed7953"
            ],
            [
             0.7777777777777778,
             "#fb9f3a"
            ],
            [
             0.8888888888888888,
             "#fdca26"
            ],
            [
             1,
             "#f0f921"
            ]
           ],
           "sequentialminus": [
            [
             0,
             "#0d0887"
            ],
            [
             0.1111111111111111,
             "#46039f"
            ],
            [
             0.2222222222222222,
             "#7201a8"
            ],
            [
             0.3333333333333333,
             "#9c179e"
            ],
            [
             0.4444444444444444,
             "#bd3786"
            ],
            [
             0.5555555555555556,
             "#d8576b"
            ],
            [
             0.6666666666666666,
             "#ed7953"
            ],
            [
             0.7777777777777778,
             "#fb9f3a"
            ],
            [
             0.8888888888888888,
             "#fdca26"
            ],
            [
             1,
             "#f0f921"
            ]
           ]
          },
          "colorway": [
           "#636efa",
           "#EF553B",
           "#00cc96",
           "#ab63fa",
           "#FFA15A",
           "#19d3f3",
           "#FF6692",
           "#B6E880",
           "#FF97FF",
           "#FECB52"
          ],
          "font": {
           "color": "#2a3f5f"
          },
          "geo": {
           "bgcolor": "white",
           "lakecolor": "white",
           "landcolor": "#E5ECF6",
           "showlakes": true,
           "showland": true,
           "subunitcolor": "white"
          },
          "hoverlabel": {
           "align": "left"
          },
          "hovermode": "closest",
          "mapbox": {
           "style": "light"
          },
          "paper_bgcolor": "white",
          "plot_bgcolor": "#E5ECF6",
          "polar": {
           "angularaxis": {
            "gridcolor": "white",
            "linecolor": "white",
            "ticks": ""
           },
           "bgcolor": "#E5ECF6",
           "radialaxis": {
            "gridcolor": "white",
            "linecolor": "white",
            "ticks": ""
           }
          },
          "scene": {
           "xaxis": {
            "backgroundcolor": "#E5ECF6",
            "gridcolor": "white",
            "gridwidth": 2,
            "linecolor": "white",
            "showbackground": true,
            "ticks": "",
            "zerolinecolor": "white"
           },
           "yaxis": {
            "backgroundcolor": "#E5ECF6",
            "gridcolor": "white",
            "gridwidth": 2,
            "linecolor": "white",
            "showbackground": true,
            "ticks": "",
            "zerolinecolor": "white"
           },
           "zaxis": {
            "backgroundcolor": "#E5ECF6",
            "gridcolor": "white",
            "gridwidth": 2,
            "linecolor": "white",
            "showbackground": true,
            "ticks": "",
            "zerolinecolor": "white"
           }
          },
          "shapedefaults": {
           "line": {
            "color": "#2a3f5f"
           }
          },
          "ternary": {
           "aaxis": {
            "gridcolor": "white",
            "linecolor": "white",
            "ticks": ""
           },
           "baxis": {
            "gridcolor": "white",
            "linecolor": "white",
            "ticks": ""
           },
           "bgcolor": "#E5ECF6",
           "caxis": {
            "gridcolor": "white",
            "linecolor": "white",
            "ticks": ""
           }
          },
          "title": {
           "x": 0.05
          },
          "xaxis": {
           "automargin": true,
           "gridcolor": "white",
           "linecolor": "white",
           "ticks": "",
           "title": {
            "standoff": 15
           },
           "zerolinecolor": "white",
           "zerolinewidth": 2
          },
          "yaxis": {
           "automargin": true,
           "gridcolor": "white",
           "linecolor": "white",
           "ticks": "",
           "title": {
            "standoff": 15
           },
           "zerolinecolor": "white",
           "zerolinewidth": 2
          }
         }
        },
        "updatemenus": [
         {
          "buttons": [
           {
            "args": [
             null,
             {
              "frame": {
               "duration": 500,
               "redraw": true
              },
              "fromcurrent": true,
              "mode": "immediate",
              "transition": {
               "duration": 500,
               "easing": "linear"
              }
             }
            ],
            "label": "&#9654;",
            "method": "animate"
           },
           {
            "args": [
             [
              null
             ],
             {
              "frame": {
               "duration": 0,
               "redraw": true
              },
              "fromcurrent": true,
              "mode": "immediate",
              "transition": {
               "duration": 0,
               "easing": "linear"
              }
             }
            ],
            "label": "&#9724;",
            "method": "animate"
           }
          ],
          "direction": "left",
          "pad": {
           "r": 10,
           "t": 70
          },
          "showactive": false,
          "type": "buttons",
          "x": 0.1,
          "xanchor": "right",
          "y": 0,
          "yanchor": "top"
         }
        ]
       }
      },
      "text/html": [
       "<div>\n",
       "        \n",
       "        \n",
       "            <div id=\"2b1f51da-97b5-43d7-ad80-12b48e99c1f9\" class=\"plotly-graph-div\" style=\"height:525px; width:100%;\"></div>\n",
       "            <script type=\"text/javascript\">\n",
       "                require([\"plotly\"], function(Plotly) {\n",
       "                    window.PLOTLYENV=window.PLOTLYENV || {};\n",
       "                    \n",
       "                if (document.getElementById(\"2b1f51da-97b5-43d7-ad80-12b48e99c1f9\")) {\n",
       "                    Plotly.newPlot(\n",
       "                        '2b1f51da-97b5-43d7-ad80-12b48e99c1f9',\n",
       "                        [{\"geo\": \"geo\", \"hoverlabel\": {\"namelength\": 0}, \"hovertemplate\": \"<b>%{hovertext}</b><br><br>Continent=Asia<br>Period=2019-12-01<br>cases=%{marker.size}<br>ISO_Apha3=%{location}\", \"hovertext\": [\"Afghanistan\", \"Armenia\", \"Azerbaijan\", \"Bahrain\", \"Cambodia\", \"China\", \"Georgia\", \"India\", \"Indonesia\", \"Iran\", \"Iraq\", \"Israel\", \"Japan\", \"Kuwait\", \"Lebanon\", \"Malaysia\", \"Nepal\", \"Oman\", \"Pakistan\", \"Philippines\", \"Qatar\", \"Singapore\", \"South_Korea\", \"Sri_Lanka\", \"Taiwan\", \"Thailand\", \"United_Arab_Emirates\", \"Vietnam\"], \"legendgroup\": \"Asia\", \"locations\": [\"AFG\", \"ARM\", \"AZE\", \"BHR\", \"KHM\", \"CHN\", \"GEO\", \"IND\", \"IDN\", \"IRN\", \"IRQ\", \"ISR\", \"JPN\", \"KWT\", \"LBN\", \"MYS\", \"NPL\", \"OMN\", \"PAK\", \"PHL\", \"QAT\", \"SGP\", \"KOR\", \"LKA\", \"TWN\", \"THA\", \"ARE\", \"VNM\"], \"marker\": {\"color\": \"#636efa\", \"size\": [0, 0, 0, 0, 0, 27, 0, 0, 0, 0, 0, 0, 0, 0, 0, 0, 0, 0, 0, 0, 0, 0, 0, 0, 0, 0, 0, 0], \"sizemode\": \"area\", \"sizeref\": 982.3775}, \"name\": \"Asia\", \"showlegend\": true, \"type\": \"scattergeo\"}, {\"geo\": \"geo\", \"hoverlabel\": {\"namelength\": 0}, \"hovertemplate\": \"<b>%{hovertext}</b><br><br>Continent=Africa<br>Period=2019-12-01<br>cases=%{marker.size}<br>ISO_Apha3=%{location}\", \"hovertext\": [\"Algeria\", \"Egypt\", \"Nigeria\"], \"legendgroup\": \"Africa\", \"locations\": [\"DZA\", \"EGY\", \"NGA\"], \"marker\": {\"color\": \"#EF553B\", \"size\": [0, 0, 0], \"sizemode\": \"area\", \"sizeref\": 982.3775}, \"name\": \"Africa\", \"showlegend\": true, \"type\": \"scattergeo\"}, {\"geo\": \"geo\", \"hoverlabel\": {\"namelength\": 0}, \"hovertemplate\": \"<b>%{hovertext}</b><br><br>Continent=Oceania<br>Period=2019-12-01<br>cases=%{marker.size}<br>ISO_Apha3=%{location}\", \"hovertext\": [\"Australia\", \"New_Zealand\"], \"legendgroup\": \"Oceania\", \"locations\": [\"AUS\", \"NZL\"], \"marker\": {\"color\": \"#00cc96\", \"size\": [0, 0], \"sizemode\": \"area\", \"sizeref\": 982.3775}, \"name\": \"Oceania\", \"showlegend\": true, \"type\": \"scattergeo\"}, {\"geo\": \"geo\", \"hoverlabel\": {\"namelength\": 0}, \"hovertemplate\": \"<b>%{hovertext}</b><br><br>Continent=Europe<br>Period=2019-12-01<br>cases=%{marker.size}<br>ISO_Apha3=%{location}\", \"hovertext\": [\"Austria\", \"Belarus\", \"Belgium\", \"Croatia\", \"Denmark\", \"Estonia\", \"Finland\", \"France\", \"Germany\", \"Greece\", \"Iceland\", \"Ireland\", \"Italy\", \"Lithuania\", \"Luxembourg\", \"Monaco\", \"Netherlands\", \"North_Macedonia\", \"Norway\", \"Romania\", \"Russia\", \"San_Marino\", \"Spain\", \"Sweden\", \"Switzerland\", \"United_Kingdom\"], \"legendgroup\": \"Europe\", \"locations\": [\"AUT\", \"BLR\", \"BEL\", \"HRV\", \"DNK\", \"EST\", \"FIN\", \"FRA\", \"DEU\", \"GRC\", \"ISL\", \"IRL\", \"ITA\", \"LTU\", \"LUX\", \"MCO\", \"NLD\", \"MKD\", \"NOR\", \"ROU\", \"RUS\", \"SMR\", \"ESP\", \"SWE\", \"CHE\", \"GBR\"], \"marker\": {\"color\": \"#ab63fa\", \"size\": [0, 0, 0, 0, 0, 0, 0, 0, 0, 0, 0, 0, 0, 0, 0, 0, 0, 0, 0, 0, 0, 0, 0, 0, 0, 0], \"sizemode\": \"area\", \"sizeref\": 982.3775}, \"name\": \"Europe\", \"showlegend\": true, \"type\": \"scattergeo\"}, {\"geo\": \"geo\", \"hoverlabel\": {\"namelength\": 0}, \"hovertemplate\": \"<b>%{hovertext}</b><br><br>Continent=South America<br>Period=2019-12-01<br>cases=%{marker.size}<br>ISO_Apha3=%{location}\", \"hovertext\": [\"Brazil\", \"Ecuador\"], \"legendgroup\": \"South America\", \"locations\": [\"BRA\", \"ECU\"], \"marker\": {\"color\": \"#FFA15A\", \"size\": [0, 0], \"sizemode\": \"area\", \"sizeref\": 982.3775}, \"name\": \"South America\", \"showlegend\": true, \"type\": \"scattergeo\"}, {\"geo\": \"geo\", \"hoverlabel\": {\"namelength\": 0}, \"hovertemplate\": \"<b>%{hovertext}</b><br><br>Continent=North America<br>Period=2019-12-01<br>cases=%{marker.size}<br>ISO_Apha3=%{location}\", \"hovertext\": [\"Canada\", \"Dominican_Republic\", \"Mexico\", \"United_States_of_America\"], \"legendgroup\": \"North America\", \"locations\": [\"CAN\", \"DOM\", \"MEX\", \"USA\"], \"marker\": {\"color\": \"#19d3f3\", \"size\": [0, 0, 0, 0], \"sizemode\": \"area\", \"sizeref\": 982.3775}, \"name\": \"North America\", \"showlegend\": true, \"type\": \"scattergeo\"}],\n",
       "                        {\"geo\": {\"center\": {}, \"domain\": {\"x\": [0.0, 1.0], \"y\": [0.0, 1.0]}, \"projection\": {\"type\": \"natural earth\"}}, \"legend\": {\"itemsizing\": \"constant\", \"title\": {\"text\": \"Continent\"}, \"tracegroupgap\": 0}, \"margin\": {\"t\": 60}, \"sliders\": [{\"active\": 0, \"currentvalue\": {\"prefix\": \"Period=\"}, \"len\": 0.9, \"pad\": {\"b\": 10, \"t\": 60}, \"steps\": [{\"args\": [[\"2019-12-01\"], {\"frame\": {\"duration\": 0, \"redraw\": true}, \"fromcurrent\": true, \"mode\": \"immediate\", \"transition\": {\"duration\": 0, \"easing\": \"linear\"}}], \"label\": \"2019-12-01\", \"method\": \"animate\"}, {\"args\": [[\"2020-01-01\"], {\"frame\": {\"duration\": 0, \"redraw\": true}, \"fromcurrent\": true, \"mode\": \"immediate\", \"transition\": {\"duration\": 0, \"easing\": \"linear\"}}], \"label\": \"2020-01-01\", \"method\": \"animate\"}, {\"args\": [[\"2020-02-01\"], {\"frame\": {\"duration\": 0, \"redraw\": true}, \"fromcurrent\": true, \"mode\": \"immediate\", \"transition\": {\"duration\": 0, \"easing\": \"linear\"}}], \"label\": \"2020-02-01\", \"method\": \"animate\"}, {\"args\": [[\"2020-03-01\"], {\"frame\": {\"duration\": 0, \"redraw\": true}, \"fromcurrent\": true, \"mode\": \"immediate\", \"transition\": {\"duration\": 0, \"easing\": \"linear\"}}], \"label\": \"2020-03-01\", \"method\": \"animate\"}, {\"args\": [[\"2020-04-01\"], {\"frame\": {\"duration\": 0, \"redraw\": true}, \"fromcurrent\": true, \"mode\": \"immediate\", \"transition\": {\"duration\": 0, \"easing\": \"linear\"}}], \"label\": \"2020-04-01\", \"method\": \"animate\"}], \"x\": 0.1, \"xanchor\": \"left\", \"y\": 0, \"yanchor\": \"top\"}], \"template\": {\"data\": {\"bar\": [{\"error_x\": {\"color\": \"#2a3f5f\"}, \"error_y\": {\"color\": \"#2a3f5f\"}, \"marker\": {\"line\": {\"color\": \"#E5ECF6\", \"width\": 0.5}}, \"type\": \"bar\"}], \"barpolar\": [{\"marker\": {\"line\": {\"color\": \"#E5ECF6\", \"width\": 0.5}}, \"type\": \"barpolar\"}], \"carpet\": [{\"aaxis\": {\"endlinecolor\": \"#2a3f5f\", \"gridcolor\": \"white\", \"linecolor\": \"white\", \"minorgridcolor\": \"white\", \"startlinecolor\": \"#2a3f5f\"}, \"baxis\": {\"endlinecolor\": \"#2a3f5f\", \"gridcolor\": \"white\", \"linecolor\": \"white\", \"minorgridcolor\": \"white\", \"startlinecolor\": \"#2a3f5f\"}, \"type\": \"carpet\"}], \"choropleth\": [{\"colorbar\": {\"outlinewidth\": 0, \"ticks\": \"\"}, \"type\": \"choropleth\"}], \"contour\": [{\"colorbar\": {\"outlinewidth\": 0, \"ticks\": \"\"}, \"colorscale\": [[0.0, \"#0d0887\"], [0.1111111111111111, \"#46039f\"], [0.2222222222222222, \"#7201a8\"], [0.3333333333333333, \"#9c179e\"], [0.4444444444444444, \"#bd3786\"], [0.5555555555555556, \"#d8576b\"], [0.6666666666666666, \"#ed7953\"], [0.7777777777777778, \"#fb9f3a\"], [0.8888888888888888, \"#fdca26\"], [1.0, \"#f0f921\"]], \"type\": \"contour\"}], \"contourcarpet\": [{\"colorbar\": {\"outlinewidth\": 0, \"ticks\": \"\"}, \"type\": \"contourcarpet\"}], \"heatmap\": [{\"colorbar\": {\"outlinewidth\": 0, \"ticks\": \"\"}, \"colorscale\": [[0.0, \"#0d0887\"], [0.1111111111111111, \"#46039f\"], [0.2222222222222222, \"#7201a8\"], [0.3333333333333333, \"#9c179e\"], [0.4444444444444444, \"#bd3786\"], [0.5555555555555556, \"#d8576b\"], [0.6666666666666666, \"#ed7953\"], [0.7777777777777778, \"#fb9f3a\"], [0.8888888888888888, \"#fdca26\"], [1.0, \"#f0f921\"]], \"type\": \"heatmap\"}], \"heatmapgl\": [{\"colorbar\": {\"outlinewidth\": 0, \"ticks\": \"\"}, \"colorscale\": [[0.0, \"#0d0887\"], [0.1111111111111111, \"#46039f\"], [0.2222222222222222, \"#7201a8\"], [0.3333333333333333, \"#9c179e\"], [0.4444444444444444, \"#bd3786\"], [0.5555555555555556, \"#d8576b\"], [0.6666666666666666, \"#ed7953\"], [0.7777777777777778, \"#fb9f3a\"], [0.8888888888888888, \"#fdca26\"], [1.0, \"#f0f921\"]], \"type\": \"heatmapgl\"}], \"histogram\": [{\"marker\": {\"colorbar\": {\"outlinewidth\": 0, \"ticks\": \"\"}}, \"type\": \"histogram\"}], \"histogram2d\": [{\"colorbar\": {\"outlinewidth\": 0, \"ticks\": \"\"}, \"colorscale\": [[0.0, \"#0d0887\"], [0.1111111111111111, \"#46039f\"], [0.2222222222222222, \"#7201a8\"], [0.3333333333333333, \"#9c179e\"], [0.4444444444444444, \"#bd3786\"], [0.5555555555555556, \"#d8576b\"], [0.6666666666666666, \"#ed7953\"], [0.7777777777777778, \"#fb9f3a\"], [0.8888888888888888, \"#fdca26\"], [1.0, \"#f0f921\"]], \"type\": \"histogram2d\"}], \"histogram2dcontour\": [{\"colorbar\": {\"outlinewidth\": 0, \"ticks\": \"\"}, \"colorscale\": [[0.0, \"#0d0887\"], [0.1111111111111111, \"#46039f\"], [0.2222222222222222, \"#7201a8\"], [0.3333333333333333, \"#9c179e\"], [0.4444444444444444, \"#bd3786\"], [0.5555555555555556, \"#d8576b\"], [0.6666666666666666, \"#ed7953\"], [0.7777777777777778, \"#fb9f3a\"], [0.8888888888888888, \"#fdca26\"], [1.0, \"#f0f921\"]], \"type\": \"histogram2dcontour\"}], \"mesh3d\": [{\"colorbar\": {\"outlinewidth\": 0, \"ticks\": \"\"}, \"type\": \"mesh3d\"}], \"parcoords\": [{\"line\": {\"colorbar\": {\"outlinewidth\": 0, \"ticks\": \"\"}}, \"type\": \"parcoords\"}], \"pie\": [{\"automargin\": true, \"type\": \"pie\"}], \"scatter\": [{\"marker\": {\"colorbar\": {\"outlinewidth\": 0, \"ticks\": \"\"}}, \"type\": \"scatter\"}], \"scatter3d\": [{\"line\": {\"colorbar\": {\"outlinewidth\": 0, \"ticks\": \"\"}}, \"marker\": {\"colorbar\": {\"outlinewidth\": 0, \"ticks\": \"\"}}, \"type\": \"scatter3d\"}], \"scattercarpet\": [{\"marker\": {\"colorbar\": {\"outlinewidth\": 0, \"ticks\": \"\"}}, \"type\": \"scattercarpet\"}], \"scattergeo\": [{\"marker\": {\"colorbar\": {\"outlinewidth\": 0, \"ticks\": \"\"}}, \"type\": \"scattergeo\"}], \"scattergl\": [{\"marker\": {\"colorbar\": {\"outlinewidth\": 0, \"ticks\": \"\"}}, \"type\": \"scattergl\"}], \"scattermapbox\": [{\"marker\": {\"colorbar\": {\"outlinewidth\": 0, \"ticks\": \"\"}}, \"type\": \"scattermapbox\"}], \"scatterpolar\": [{\"marker\": {\"colorbar\": {\"outlinewidth\": 0, \"ticks\": \"\"}}, \"type\": \"scatterpolar\"}], \"scatterpolargl\": [{\"marker\": {\"colorbar\": {\"outlinewidth\": 0, \"ticks\": \"\"}}, \"type\": \"scatterpolargl\"}], \"scatterternary\": [{\"marker\": {\"colorbar\": {\"outlinewidth\": 0, \"ticks\": \"\"}}, \"type\": \"scatterternary\"}], \"surface\": [{\"colorbar\": {\"outlinewidth\": 0, \"ticks\": \"\"}, \"colorscale\": [[0.0, \"#0d0887\"], [0.1111111111111111, \"#46039f\"], [0.2222222222222222, \"#7201a8\"], [0.3333333333333333, \"#9c179e\"], [0.4444444444444444, \"#bd3786\"], [0.5555555555555556, \"#d8576b\"], [0.6666666666666666, \"#ed7953\"], [0.7777777777777778, \"#fb9f3a\"], [0.8888888888888888, \"#fdca26\"], [1.0, \"#f0f921\"]], \"type\": \"surface\"}], \"table\": [{\"cells\": {\"fill\": {\"color\": \"#EBF0F8\"}, \"line\": {\"color\": \"white\"}}, \"header\": {\"fill\": {\"color\": \"#C8D4E3\"}, \"line\": {\"color\": \"white\"}}, \"type\": \"table\"}]}, \"layout\": {\"annotationdefaults\": {\"arrowcolor\": \"#2a3f5f\", \"arrowhead\": 0, \"arrowwidth\": 1}, \"coloraxis\": {\"colorbar\": {\"outlinewidth\": 0, \"ticks\": \"\"}}, \"colorscale\": {\"diverging\": [[0, \"#8e0152\"], [0.1, \"#c51b7d\"], [0.2, \"#de77ae\"], [0.3, \"#f1b6da\"], [0.4, \"#fde0ef\"], [0.5, \"#f7f7f7\"], [0.6, \"#e6f5d0\"], [0.7, \"#b8e186\"], [0.8, \"#7fbc41\"], [0.9, \"#4d9221\"], [1, \"#276419\"]], \"sequential\": [[0.0, \"#0d0887\"], [0.1111111111111111, \"#46039f\"], [0.2222222222222222, \"#7201a8\"], [0.3333333333333333, \"#9c179e\"], [0.4444444444444444, \"#bd3786\"], [0.5555555555555556, \"#d8576b\"], [0.6666666666666666, \"#ed7953\"], [0.7777777777777778, \"#fb9f3a\"], [0.8888888888888888, \"#fdca26\"], [1.0, \"#f0f921\"]], \"sequentialminus\": [[0.0, \"#0d0887\"], [0.1111111111111111, \"#46039f\"], [0.2222222222222222, \"#7201a8\"], [0.3333333333333333, \"#9c179e\"], [0.4444444444444444, \"#bd3786\"], [0.5555555555555556, \"#d8576b\"], [0.6666666666666666, \"#ed7953\"], [0.7777777777777778, \"#fb9f3a\"], [0.8888888888888888, \"#fdca26\"], [1.0, \"#f0f921\"]]}, \"colorway\": [\"#636efa\", \"#EF553B\", \"#00cc96\", \"#ab63fa\", \"#FFA15A\", \"#19d3f3\", \"#FF6692\", \"#B6E880\", \"#FF97FF\", \"#FECB52\"], \"font\": {\"color\": \"#2a3f5f\"}, \"geo\": {\"bgcolor\": \"white\", \"lakecolor\": \"white\", \"landcolor\": \"#E5ECF6\", \"showlakes\": true, \"showland\": true, \"subunitcolor\": \"white\"}, \"hoverlabel\": {\"align\": \"left\"}, \"hovermode\": \"closest\", \"mapbox\": {\"style\": \"light\"}, \"paper_bgcolor\": \"white\", \"plot_bgcolor\": \"#E5ECF6\", \"polar\": {\"angularaxis\": {\"gridcolor\": \"white\", \"linecolor\": \"white\", \"ticks\": \"\"}, \"bgcolor\": \"#E5ECF6\", \"radialaxis\": {\"gridcolor\": \"white\", \"linecolor\": \"white\", \"ticks\": \"\"}}, \"scene\": {\"xaxis\": {\"backgroundcolor\": \"#E5ECF6\", \"gridcolor\": \"white\", \"gridwidth\": 2, \"linecolor\": \"white\", \"showbackground\": true, \"ticks\": \"\", \"zerolinecolor\": \"white\"}, \"yaxis\": {\"backgroundcolor\": \"#E5ECF6\", \"gridcolor\": \"white\", \"gridwidth\": 2, \"linecolor\": \"white\", \"showbackground\": true, \"ticks\": \"\", \"zerolinecolor\": \"white\"}, \"zaxis\": {\"backgroundcolor\": \"#E5ECF6\", \"gridcolor\": \"white\", \"gridwidth\": 2, \"linecolor\": \"white\", \"showbackground\": true, \"ticks\": \"\", \"zerolinecolor\": \"white\"}}, \"shapedefaults\": {\"line\": {\"color\": \"#2a3f5f\"}}, \"ternary\": {\"aaxis\": {\"gridcolor\": \"white\", \"linecolor\": \"white\", \"ticks\": \"\"}, \"baxis\": {\"gridcolor\": \"white\", \"linecolor\": \"white\", \"ticks\": \"\"}, \"bgcolor\": \"#E5ECF6\", \"caxis\": {\"gridcolor\": \"white\", \"linecolor\": \"white\", \"ticks\": \"\"}}, \"title\": {\"x\": 0.05}, \"xaxis\": {\"automargin\": true, \"gridcolor\": \"white\", \"linecolor\": \"white\", \"ticks\": \"\", \"title\": {\"standoff\": 15}, \"zerolinecolor\": \"white\", \"zerolinewidth\": 2}, \"yaxis\": {\"automargin\": true, \"gridcolor\": \"white\", \"linecolor\": \"white\", \"ticks\": \"\", \"title\": {\"standoff\": 15}, \"zerolinecolor\": \"white\", \"zerolinewidth\": 2}}}, \"updatemenus\": [{\"buttons\": [{\"args\": [null, {\"frame\": {\"duration\": 500, \"redraw\": true}, \"fromcurrent\": true, \"mode\": \"immediate\", \"transition\": {\"duration\": 500, \"easing\": \"linear\"}}], \"label\": \"&#9654;\", \"method\": \"animate\"}, {\"args\": [[null], {\"frame\": {\"duration\": 0, \"redraw\": true}, \"fromcurrent\": true, \"mode\": \"immediate\", \"transition\": {\"duration\": 0, \"easing\": \"linear\"}}], \"label\": \"&#9724;\", \"method\": \"animate\"}], \"direction\": \"left\", \"pad\": {\"r\": 10, \"t\": 70}, \"showactive\": false, \"type\": \"buttons\", \"x\": 0.1, \"xanchor\": \"right\", \"y\": 0, \"yanchor\": \"top\"}]},\n",
       "                        {\"responsive\": true}\n",
       "                    ).then(function(){\n",
       "                            Plotly.addFrames('2b1f51da-97b5-43d7-ad80-12b48e99c1f9', [{\"data\": [{\"geo\": \"geo\", \"hoverlabel\": {\"namelength\": 0}, \"hovertemplate\": \"<b>%{hovertext}</b><br><br>Continent=Asia<br>Period=2019-12-01<br>cases=%{marker.size}<br>ISO_Apha3=%{location}\", \"hovertext\": [\"Afghanistan\", \"Armenia\", \"Azerbaijan\", \"Bahrain\", \"Cambodia\", \"China\", \"Georgia\", \"India\", \"Indonesia\", \"Iran\", \"Iraq\", \"Israel\", \"Japan\", \"Kuwait\", \"Lebanon\", \"Malaysia\", \"Nepal\", \"Oman\", \"Pakistan\", \"Philippines\", \"Qatar\", \"Singapore\", \"South_Korea\", \"Sri_Lanka\", \"Taiwan\", \"Thailand\", \"United_Arab_Emirates\", \"Vietnam\"], \"legendgroup\": \"Asia\", \"locations\": [\"AFG\", \"ARM\", \"AZE\", \"BHR\", \"KHM\", \"CHN\", \"GEO\", \"IND\", \"IDN\", \"IRN\", \"IRQ\", \"ISR\", \"JPN\", \"KWT\", \"LBN\", \"MYS\", \"NPL\", \"OMN\", \"PAK\", \"PHL\", \"QAT\", \"SGP\", \"KOR\", \"LKA\", \"TWN\", \"THA\", \"ARE\", \"VNM\"], \"marker\": {\"color\": \"#636efa\", \"size\": [0, 0, 0, 0, 0, 27, 0, 0, 0, 0, 0, 0, 0, 0, 0, 0, 0, 0, 0, 0, 0, 0, 0, 0, 0, 0, 0, 0], \"sizemode\": \"area\", \"sizeref\": 982.3775}, \"name\": \"Asia\", \"showlegend\": true, \"type\": \"scattergeo\"}, {\"geo\": \"geo\", \"hoverlabel\": {\"namelength\": 0}, \"hovertemplate\": \"<b>%{hovertext}</b><br><br>Continent=Africa<br>Period=2019-12-01<br>cases=%{marker.size}<br>ISO_Apha3=%{location}\", \"hovertext\": [\"Algeria\", \"Egypt\", \"Nigeria\"], \"legendgroup\": \"Africa\", \"locations\": [\"DZA\", \"EGY\", \"NGA\"], \"marker\": {\"color\": \"#EF553B\", \"size\": [0, 0, 0], \"sizemode\": \"area\", \"sizeref\": 982.3775}, \"name\": \"Africa\", \"showlegend\": true, \"type\": \"scattergeo\"}, {\"geo\": \"geo\", \"hoverlabel\": {\"namelength\": 0}, \"hovertemplate\": \"<b>%{hovertext}</b><br><br>Continent=Oceania<br>Period=2019-12-01<br>cases=%{marker.size}<br>ISO_Apha3=%{location}\", \"hovertext\": [\"Australia\", \"New_Zealand\"], \"legendgroup\": \"Oceania\", \"locations\": [\"AUS\", \"NZL\"], \"marker\": {\"color\": \"#00cc96\", \"size\": [0, 0], \"sizemode\": \"area\", \"sizeref\": 982.3775}, \"name\": \"Oceania\", \"showlegend\": true, \"type\": \"scattergeo\"}, {\"geo\": \"geo\", \"hoverlabel\": {\"namelength\": 0}, \"hovertemplate\": \"<b>%{hovertext}</b><br><br>Continent=Europe<br>Period=2019-12-01<br>cases=%{marker.size}<br>ISO_Apha3=%{location}\", \"hovertext\": [\"Austria\", \"Belarus\", \"Belgium\", \"Croatia\", \"Denmark\", \"Estonia\", \"Finland\", \"France\", \"Germany\", \"Greece\", \"Iceland\", \"Ireland\", \"Italy\", \"Lithuania\", \"Luxembourg\", \"Monaco\", \"Netherlands\", \"North_Macedonia\", \"Norway\", \"Romania\", \"Russia\", \"San_Marino\", \"Spain\", \"Sweden\", \"Switzerland\", \"United_Kingdom\"], \"legendgroup\": \"Europe\", \"locations\": [\"AUT\", \"BLR\", \"BEL\", \"HRV\", \"DNK\", \"EST\", \"FIN\", \"FRA\", \"DEU\", \"GRC\", \"ISL\", \"IRL\", \"ITA\", \"LTU\", \"LUX\", \"MCO\", \"NLD\", \"MKD\", \"NOR\", \"ROU\", \"RUS\", \"SMR\", \"ESP\", \"SWE\", \"CHE\", \"GBR\"], \"marker\": {\"color\": \"#ab63fa\", \"size\": [0, 0, 0, 0, 0, 0, 0, 0, 0, 0, 0, 0, 0, 0, 0, 0, 0, 0, 0, 0, 0, 0, 0, 0, 0, 0], \"sizemode\": \"area\", \"sizeref\": 982.3775}, \"name\": \"Europe\", \"showlegend\": true, \"type\": \"scattergeo\"}, {\"geo\": \"geo\", \"hoverlabel\": {\"namelength\": 0}, \"hovertemplate\": \"<b>%{hovertext}</b><br><br>Continent=South America<br>Period=2019-12-01<br>cases=%{marker.size}<br>ISO_Apha3=%{location}\", \"hovertext\": [\"Brazil\", \"Ecuador\"], \"legendgroup\": \"South America\", \"locations\": [\"BRA\", \"ECU\"], \"marker\": {\"color\": \"#FFA15A\", \"size\": [0, 0], \"sizemode\": \"area\", \"sizeref\": 982.3775}, \"name\": \"South America\", \"showlegend\": true, \"type\": \"scattergeo\"}, {\"geo\": \"geo\", \"hoverlabel\": {\"namelength\": 0}, \"hovertemplate\": \"<b>%{hovertext}</b><br><br>Continent=North America<br>Period=2019-12-01<br>cases=%{marker.size}<br>ISO_Apha3=%{location}\", \"hovertext\": [\"Canada\", \"Dominican_Republic\", \"Mexico\", \"United_States_of_America\"], \"legendgroup\": \"North America\", \"locations\": [\"CAN\", \"DOM\", \"MEX\", \"USA\"], \"marker\": {\"color\": \"#19d3f3\", \"size\": [0, 0, 0, 0], \"sizemode\": \"area\", \"sizeref\": 982.3775}, \"name\": \"North America\", \"showlegend\": true, \"type\": \"scattergeo\"}], \"name\": \"2019-12-01\"}, {\"data\": [{\"geo\": \"geo\", \"hoverlabel\": {\"namelength\": 0}, \"hovertemplate\": \"<b>%{hovertext}</b><br><br>Continent=Asia<br>Period=2020-01-01<br>cases=%{marker.size}<br>ISO_Apha3=%{location}\", \"hovertext\": [\"Afghanistan\", \"Armenia\", \"Azerbaijan\", \"Bahrain\", \"Cambodia\", \"China\", \"Georgia\", \"India\", \"Indonesia\", \"Iran\", \"Iraq\", \"Israel\", \"Japan\", \"Kuwait\", \"Lebanon\", \"Malaysia\", \"Nepal\", \"Oman\", \"Pakistan\", \"Philippines\", \"Qatar\", \"Singapore\", \"South_Korea\", \"Sri_Lanka\", \"Taiwan\", \"Thailand\", \"United_Arab_Emirates\", \"Vietnam\"], \"legendgroup\": \"Asia\", \"locations\": [\"AFG\", \"ARM\", \"AZE\", \"BHR\", \"KHM\", \"CHN\", \"GEO\", \"IND\", \"IDN\", \"IRN\", \"IRQ\", \"ISR\", \"JPN\", \"KWT\", \"LBN\", \"MYS\", \"NPL\", \"OMN\", \"PAK\", \"PHL\", \"QAT\", \"SGP\", \"KOR\", \"LKA\", \"TWN\", \"THA\", \"ARE\", \"VNM\"], \"marker\": {\"color\": \"#636efa\", \"size\": [0, 0, 0, 0, 1, 9687, 0, 1, 0, 0, 0, 0, 14, 0, 0, 8, 1, 0, 0, 1, 0, 13, 7, 1, 9, 14, 4, 5], \"sizemode\": \"area\", \"sizeref\": 982.3775}, \"name\": \"Asia\", \"showlegend\": true, \"type\": \"scattergeo\"}, {\"geo\": \"geo\", \"hoverlabel\": {\"namelength\": 0}, \"hovertemplate\": \"<b>%{hovertext}</b><br><br>Continent=Africa<br>Period=2020-01-01<br>cases=%{marker.size}<br>ISO_Apha3=%{location}\", \"hovertext\": [\"Algeria\", \"Egypt\", \"Nigeria\"], \"legendgroup\": \"Africa\", \"locations\": [\"DZA\", \"EGY\", \"NGA\"], \"marker\": {\"color\": \"#EF553B\", \"size\": [0, 0, 0], \"sizemode\": \"area\", \"sizeref\": 982.3775}, \"name\": \"Africa\", \"showlegend\": true, \"type\": \"scattergeo\"}, {\"geo\": \"geo\", \"hoverlabel\": {\"namelength\": 0}, \"hovertemplate\": \"<b>%{hovertext}</b><br><br>Continent=Oceania<br>Period=2020-01-01<br>cases=%{marker.size}<br>ISO_Apha3=%{location}\", \"hovertext\": [\"Australia\", \"New_Zealand\"], \"legendgroup\": \"Oceania\", \"locations\": [\"AUS\", \"NZL\"], \"marker\": {\"color\": \"#00cc96\", \"size\": [7, 0], \"sizemode\": \"area\", \"sizeref\": 982.3775}, \"name\": \"Oceania\", \"showlegend\": true, \"type\": \"scattergeo\"}, {\"geo\": \"geo\", \"hoverlabel\": {\"namelength\": 0}, \"hovertemplate\": \"<b>%{hovertext}</b><br><br>Continent=Europe<br>Period=2020-01-01<br>cases=%{marker.size}<br>ISO_Apha3=%{location}\", \"hovertext\": [\"Austria\", \"Belarus\", \"Belgium\", \"Croatia\", \"Denmark\", \"Estonia\", \"Finland\", \"France\", \"Germany\", \"Greece\", \"Iceland\", \"Ireland\", \"Italy\", \"Lithuania\", \"Luxembourg\", \"Monaco\", \"Netherlands\", \"North_Macedonia\", \"Norway\", \"Romania\", \"Russia\", \"San_Marino\", \"Spain\", \"Sweden\", \"Switzerland\", \"United_Kingdom\"], \"legendgroup\": \"Europe\", \"locations\": [\"AUT\", \"BLR\", \"BEL\", \"HRV\", \"DNK\", \"EST\", \"FIN\", \"FRA\", \"DEU\", \"GRC\", \"ISL\", \"IRL\", \"ITA\", \"LTU\", \"LUX\", \"MCO\", \"NLD\", \"MKD\", \"NOR\", \"ROU\", \"RUS\", \"SMR\", \"ESP\", \"SWE\", \"CHE\", \"GBR\"], \"marker\": {\"color\": \"#ab63fa\", \"size\": [0, 0, 0, 0, 0, 0, 1, 6, 5, 0, 0, 0, 3, 0, 0, 0, 0, 0, 0, 0, 0, 0, 0, 0, 0, 2], \"sizemode\": \"area\", \"sizeref\": 982.3775}, \"name\": \"Europe\", \"showlegend\": true, \"type\": \"scattergeo\"}, {\"geo\": \"geo\", \"hoverlabel\": {\"namelength\": 0}, \"hovertemplate\": \"<b>%{hovertext}</b><br><br>Continent=South America<br>Period=2020-01-01<br>cases=%{marker.size}<br>ISO_Apha3=%{location}\", \"hovertext\": [\"Brazil\", \"Ecuador\"], \"legendgroup\": \"South America\", \"locations\": [\"BRA\", \"ECU\"], \"marker\": {\"color\": \"#FFA15A\", \"size\": [0, 0], \"sizemode\": \"area\", \"sizeref\": 982.3775}, \"name\": \"South America\", \"showlegend\": true, \"type\": \"scattergeo\"}, {\"geo\": \"geo\", \"hoverlabel\": {\"namelength\": 0}, \"hovertemplate\": \"<b>%{hovertext}</b><br><br>Continent=North America<br>Period=2020-01-01<br>cases=%{marker.size}<br>ISO_Apha3=%{location}\", \"hovertext\": [\"Canada\", \"Dominican_Republic\", \"Mexico\", \"United_States_of_America\"], \"legendgroup\": \"North America\", \"locations\": [\"CAN\", \"DOM\", \"MEX\", \"USA\"], \"marker\": {\"color\": \"#19d3f3\", \"size\": [3, 0, 0, 6], \"sizemode\": \"area\", \"sizeref\": 982.3775}, \"name\": \"North America\", \"showlegend\": true, \"type\": \"scattergeo\"}], \"name\": \"2020-01-01\"}, {\"data\": [{\"geo\": \"geo\", \"hoverlabel\": {\"namelength\": 0}, \"hovertemplate\": \"<b>%{hovertext}</b><br><br>Continent=Asia<br>Period=2020-02-01<br>cases=%{marker.size}<br>ISO_Apha3=%{location}\", \"hovertext\": [\"Afghanistan\", \"Armenia\", \"Azerbaijan\", \"Bahrain\", \"Cambodia\", \"China\", \"Georgia\", \"India\", \"Indonesia\", \"Iran\", \"Iraq\", \"Israel\", \"Japan\", \"Kuwait\", \"Lebanon\", \"Malaysia\", \"Nepal\", \"Oman\", \"Pakistan\", \"Philippines\", \"Qatar\", \"Singapore\", \"South_Korea\", \"Sri_Lanka\", \"Taiwan\", \"Thailand\", \"United_Arab_Emirates\", \"Vietnam\"], \"legendgroup\": \"Asia\", \"locations\": [\"AFG\", \"ARM\", \"AZE\", \"BHR\", \"KHM\", \"CHN\", \"GEO\", \"IND\", \"IDN\", \"IRN\", \"IRQ\", \"ISR\", \"JPN\", \"KWT\", \"LBN\", \"MYS\", \"NPL\", \"OMN\", \"PAK\", \"PHL\", \"QAT\", \"SGP\", \"KOR\", \"LKA\", \"TWN\", \"THA\", \"ARE\", \"VNM\"], \"marker\": {\"color\": \"#636efa\", \"size\": [1, 0, 1, 38, 0, 69641, 2, 2, 0, 388, 7, 7, 216, 45, 3, 17, 0, 6, 2, 2, 0, 85, 2924, 0, 30, 28, 15, 11], \"sizemode\": \"area\", \"sizeref\": 982.3775}, \"name\": \"Asia\", \"showlegend\": true, \"type\": \"scattergeo\"}, {\"geo\": \"geo\", \"hoverlabel\": {\"namelength\": 0}, \"hovertemplate\": \"<b>%{hovertext}</b><br><br>Continent=Africa<br>Period=2020-02-01<br>cases=%{marker.size}<br>ISO_Apha3=%{location}\", \"hovertext\": [\"Algeria\", \"Egypt\", \"Nigeria\"], \"legendgroup\": \"Africa\", \"locations\": [\"DZA\", \"EGY\", \"NGA\"], \"marker\": {\"color\": \"#EF553B\", \"size\": [1, 1, 1], \"sizemode\": \"area\", \"sizeref\": 982.3775}, \"name\": \"Africa\", \"showlegend\": true, \"type\": \"scattergeo\"}, {\"geo\": \"geo\", \"hoverlabel\": {\"namelength\": 0}, \"hovertemplate\": \"<b>%{hovertext}</b><br><br>Continent=Oceania<br>Period=2020-02-01<br>cases=%{marker.size}<br>ISO_Apha3=%{location}\", \"hovertext\": [\"Australia\", \"New_Zealand\"], \"legendgroup\": \"Oceania\", \"locations\": [\"AUS\", \"NZL\"], \"marker\": {\"color\": \"#00cc96\", \"size\": [18, 1], \"sizemode\": \"area\", \"sizeref\": 982.3775}, \"name\": \"Oceania\", \"showlegend\": true, \"type\": \"scattergeo\"}, {\"geo\": \"geo\", \"hoverlabel\": {\"namelength\": 0}, \"hovertemplate\": \"<b>%{hovertext}</b><br><br>Continent=Europe<br>Period=2020-02-01<br>cases=%{marker.size}<br>ISO_Apha3=%{location}\", \"hovertext\": [\"Austria\", \"Belarus\", \"Belgium\", \"Croatia\", \"Denmark\", \"Estonia\", \"Finland\", \"France\", \"Germany\", \"Greece\", \"Iceland\", \"Ireland\", \"Italy\", \"Lithuania\", \"Luxembourg\", \"Monaco\", \"Netherlands\", \"North_Macedonia\", \"Norway\", \"Romania\", \"Russia\", \"San_Marino\", \"Spain\", \"Sweden\", \"Switzerland\", \"United_Kingdom\"], \"legendgroup\": \"Europe\", \"locations\": [\"AUT\", \"BLR\", \"BEL\", \"HRV\", \"DNK\", \"EST\", \"FIN\", \"FRA\", \"DEU\", \"GRC\", \"ISL\", \"IRL\", \"ITA\", \"LTU\", \"LUX\", \"MCO\", \"NLD\", \"MKD\", \"NOR\", \"ROU\", \"RUS\", \"SMR\", \"ESP\", \"SWE\", \"CHE\", \"GBR\"], \"marker\": {\"color\": \"#ab63fa\", \"size\": [7, 1, 1, 5, 2, 1, 2, 51, 52, 4, 1, 0, 885, 1, 0, 1, 2, 1, 6, 3, 2, 1, 34, 12, 12, 16], \"sizemode\": \"area\", \"sizeref\": 982.3775}, \"name\": \"Europe\", \"showlegend\": true, \"type\": \"scattergeo\"}, {\"geo\": \"geo\", \"hoverlabel\": {\"namelength\": 0}, \"hovertemplate\": \"<b>%{hovertext}</b><br><br>Continent=South America<br>Period=2020-02-01<br>cases=%{marker.size}<br>ISO_Apha3=%{location}\", \"hovertext\": [\"Brazil\", \"Ecuador\"], \"legendgroup\": \"South America\", \"locations\": [\"BRA\", \"ECU\"], \"marker\": {\"color\": \"#FFA15A\", \"size\": [1, 0], \"sizemode\": \"area\", \"sizeref\": 982.3775}, \"name\": \"South America\", \"showlegend\": true, \"type\": \"scattergeo\"}, {\"geo\": \"geo\", \"hoverlabel\": {\"namelength\": 0}, \"hovertemplate\": \"<b>%{hovertext}</b><br><br>Continent=North America<br>Period=2020-02-01<br>cases=%{marker.size}<br>ISO_Apha3=%{location}\", \"hovertext\": [\"Canada\", \"Dominican_Republic\", \"Mexico\", \"United_States_of_America\"], \"legendgroup\": \"North America\", \"locations\": [\"CAN\", \"DOM\", \"MEX\", \"USA\"], \"marker\": {\"color\": \"#19d3f3\", \"size\": [13, 0, 2, 60], \"sizemode\": \"area\", \"sizeref\": 982.3775}, \"name\": \"North America\", \"showlegend\": true, \"type\": \"scattergeo\"}], \"name\": \"2020-02-01\"}, {\"data\": [{\"geo\": \"geo\", \"hoverlabel\": {\"namelength\": 0}, \"hovertemplate\": \"<b>%{hovertext}</b><br><br>Continent=Asia<br>Period=2020-03-01<br>cases=%{marker.size}<br>ISO_Apha3=%{location}\", \"hovertext\": [\"Afghanistan\", \"Armenia\", \"Azerbaijan\", \"Bahrain\", \"Bangladesh\", \"Bhutan\", \"Brunei_Darussalam\", \"Cambodia\", \"China\", \"Cyprus\", \"Georgia\", \"India\", \"Indonesia\", \"Iran\", \"Iraq\", \"Israel\", \"Japan\", \"Jordan\", \"Kazakhstan\", \"Kuwait\", \"Kyrgyzstan\", \"Laos\", \"Lebanon\", \"Malaysia\", \"Maldives\", \"Mongolia\", \"Myanmar\", \"Nepal\", \"Oman\", \"Pakistan\", \"Palestine\", \"Philippines\", \"Qatar\", \"Saudi_Arabia\", \"Singapore\", \"South_Korea\", \"Sri_Lanka\", \"Syria\", \"Taiwan\", \"Thailand\", \"Timor_Leste\", \"Turkey\", \"United_Arab_Emirates\", \"Uzbekistan\", \"Vietnam\"], \"legendgroup\": \"Asia\", \"locations\": [\"AFG\", \"ARM\", \"AZE\", \"BHR\", \"BGD\", \"BTN\", \"BRN\", \"KHM\", \"CHN\", \"CYP\", \"GEO\", \"IND\", \"IDN\", \"IRN\", \"IRQ\", \"ISR\", \"JPN\", \"JOR\", \"KAZ\", \"KWT\", \"KGZ\", \"LAO\", \"LBN\", \"MYS\", \"MDV\", \"MNG\", \"MMR\", \"NPL\", \"OMN\", \"PAK\", \"PSE\", \"PHL\", \"QAT\", \"SAU\", \"SGP\", \"KOR\", \"LKA\", \"SYR\", \"TWN\", \"THA\", \"TLS\", \"TUR\", \"ARE\", \"UZB\", \"VNM\"], \"marker\": {\"color\": \"#636efa\", \"size\": [140, 482, 272, 477, 49, 4, 127, 108, 2886, 230, 96, 1248, 1414, 41107, 623, 4466, 1723, 268, 325, 221, 84, 9, 443, 2601, 17, 12, 14, 4, 173, 1623, 115, 2081, 693, 1453, 746, 6855, 119, 10, 267, 1609, 1, 10827, 592, 149, 213], \"sizemode\": \"area\", \"sizeref\": 982.3775}, \"name\": \"Asia\", \"showlegend\": true, \"type\": \"scattergeo\"}, {\"geo\": \"geo\", \"hoverlabel\": {\"namelength\": 0}, \"hovertemplate\": \"<b>%{hovertext}</b><br><br>Continent=Africa<br>Period=2020-03-01<br>cases=%{marker.size}<br>ISO_Apha3=%{location}\", \"hovertext\": [\"Algeria\", \"Angola\", \"Benin\", \"Burkina_Faso\", \"Cameroon\", \"Cape_Verde\", \"Central_African_Republic\", \"Chad\", \"Congo\", \"Cote_dIvoire\", \"Democratic_Republic_of_the_Congo\", \"Djibouti\", \"Egypt\", \"Equatorial_Guinea\", \"Eritrea\", \"Eswatini\", \"Ethiopia\", \"Gabon\", \"Gambia\", \"Ghana\", \"Guinea\", \"Guinea_Bissau\", \"Kenya\", \"Liberia\", \"Libya\", \"Madagascar\", \"Mali\", \"Mauritania\", \"Mauritius\", \"Morocco\", \"Mozambique\", \"Niger\", \"Nigeria\", \"Rwanda\", \"Senegal\", \"Seychelles\", \"Somalia\", \"South_Africa\", \"Sudan\", \"Togo\", \"Tunisia\", \"Uganda\", \"United_Republic_of_Tanzania\", \"Zambia\", \"Zimbabwe\"], \"legendgroup\": \"Africa\", \"locations\": [\"DZA\", \"AGO\", \"BEN\", \"BFA\", \"CMR\", \"CPV\", \"CAF\", \"TCD\", \"COG\", \"CIV\", \"COD\", \"DJI\", \"EGY\", \"GNQ\", \"ERI\", \"SWZ\", \"ETH\", \"GAB\", \"GMB\", \"GHA\", \"GIN\", \"GNB\", \"KEN\", \"LBR\", \"LBY\", \"MDG\", \"MLI\", \"MRT\", \"MUS\", \"MAR\", \"MOZ\", \"NER\", \"NGA\", \"RWA\", \"SEN\", \"SYC\", \"SOM\", \"ZAF\", \"SDN\", \"TGO\", \"TUN\", \"UGA\", \"TZA\", \"ZMB\", \"ZWE\"], \"marker\": {\"color\": \"#EF553B\", \"size\": [510, 7, 6, 222, 142, 5, 6, 7, 19, 168, 98, 26, 608, 14, 12, 9, 23, 7, 4, 152, 16, 2, 50, 3, 8, 44, 18, 5, 128, 556, 8, 20, 130, 70, 162, 10, 3, 1326, 6, 34, 312, 33, 19, 35, 7], \"sizemode\": \"area\", \"sizeref\": 982.3775}, \"name\": \"Africa\", \"showlegend\": true, \"type\": \"scattergeo\"}, {\"geo\": \"geo\", \"hoverlabel\": {\"namelength\": 0}, \"hovertemplate\": \"<b>%{hovertext}</b><br><br>Continent=Oceania<br>Period=2020-03-01<br>cases=%{marker.size}<br>ISO_Apha3=%{location}\", \"hovertext\": [\"Australia\", \"Fiji\", \"French_Polynesia\", \"Guam\", \"New_Caledonia\", \"New_Zealand\", \"Northern_Mariana_Islands\", \"Papua_New_Guinea\"], \"legendgroup\": \"Oceania\", \"locations\": [\"AUS\", \"FJI\", \"PYF\", \"GUM\", \"NCL\", \"NZL\", \"MNP\", \"PNG\"], \"marker\": {\"color\": \"#00cc96\", \"size\": [4532, 5, 36, 60, 16, 646, 2, 1], \"sizemode\": \"area\", \"sizeref\": 982.3775}, \"name\": \"Oceania\", \"showlegend\": true, \"type\": \"scattergeo\"}, {\"geo\": \"geo\", \"hoverlabel\": {\"namelength\": 0}, \"hovertemplate\": \"<b>%{hovertext}</b><br><br>Continent=Europe<br>Period=2020-03-01<br>cases=%{marker.size}<br>ISO_Apha3=%{location}\", \"hovertext\": [\"Albania\", \"Andorra\", \"Austria\", \"Belarus\", \"Belgium\", \"Bosnia_and_Herzegovina\", \"Bulgaria\", \"Croatia\", \"Denmark\", \"Estonia\", \"Faroe_Islands\", \"Finland\", \"France\", \"Germany\", \"Gibraltar\", \"Greece\", \"Guernsey\", \"Holy_See\", \"Hungary\", \"Iceland\", \"Ireland\", \"Isle_of_Man\", \"Italy\", \"Jersey\", \"Kosovo\", \"Latvia\", \"Liechtenstein\", \"Lithuania\", \"Luxembourg\", \"Malta\", \"Moldova\", \"Monaco\", \"Montenegro\", \"Netherlands\", \"North_Macedonia\", \"Norway\", \"Poland\", \"Portugal\", \"Romania\", \"Russia\", \"San_Marino\", \"Serbia\", \"Slovakia\", \"Slovenia\", \"Spain\", \"Sweden\", \"Switzerland\", \"Ukraine\", \"United_Kingdom\"], \"legendgroup\": \"Europe\", \"locations\": [\"ALB\", \"AND\", \"AUT\", \"BLR\", \"BEL\", \"BIH\", \"BGR\", \"HRV\", \"DNK\", \"EST\", \"FRO\", \"FIN\", \"FRA\", \"DEU\", \"GIB\", \"GRC\", \"GGY\", \"VAT\", \"HUN\", \"ISL\", \"IRL\", \"IMN\", \"ITA\", \"JEY\", \"XKX\", \"LVA\", \"LIE\", \"LTU\", \"LUX\", \"MLT\", \"MDA\", \"MCO\", \"MNE\", \"NLD\", \"MKD\", \"NOR\", \"POL\", \"PRT\", \"ROU\", \"RUS\", \"SMR\", \"SRB\", \"SVK\", \"SVN\", \"ESP\", \"SWE\", \"CHE\", \"UKR\", \"GBR\"], \"marker\": {\"color\": \"#ab63fa\", \"size\": [223, 370, 9611, 104, 11898, 353, 359, 785, 2575, 714, 168, 1310, 44493, 61856, 69, 1208, 45, 6, 492, 1085, 2910, 42, 100851, 63, 106, 376, 64, 483, 1988, 156, 298, 48, 91, 11748, 284, 4220, 2055, 6408, 1949, 1834, 228, 741, 336, 763, 85161, 4016, 15400, 480, 22123], \"sizemode\": \"area\", \"sizeref\": 982.3775}, \"name\": \"Europe\", \"showlegend\": true, \"type\": \"scattergeo\"}, {\"geo\": \"geo\", \"hoverlabel\": {\"namelength\": 0}, \"hovertemplate\": \"<b>%{hovertext}</b><br><br>Continent=South America<br>Period=2020-03-01<br>cases=%{marker.size}<br>ISO_Apha3=%{location}\", \"hovertext\": [\"Argentina\", \"Bolivia\", \"Brazil\", \"Chile\", \"Colombia\", \"Ecuador\", \"Guyana\", \"Paraguay\", \"Peru\", \"Suriname\", \"Uruguay\", \"Venezuela\"], \"legendgroup\": \"South America\", \"locations\": [\"ARG\", \"BOL\", \"BRA\", \"CHL\", \"COL\", \"ECU\", \"GUY\", \"PRY\", \"PER\", \"SUR\", \"URY\", \"VEN\"], \"marker\": {\"color\": \"#FFA15A\", \"size\": [966, 107, 4578, 2449, 798, 1966, 8, 65, 950, 8, 320, 135], \"sizemode\": \"area\", \"sizeref\": 982.3775}, \"name\": \"South America\", \"showlegend\": true, \"type\": \"scattergeo\"}, {\"geo\": \"geo\", \"hoverlabel\": {\"namelength\": 0}, \"hovertemplate\": \"<b>%{hovertext}</b><br><br>Continent=North America<br>Period=2020-03-01<br>cases=%{marker.size}<br>ISO_Apha3=%{location}\", \"hovertext\": [\"Antigua_and_Barbuda\", \"Aruba\", \"Bahamas\", \"Barbados\", \"Belize\", \"Bermuda\", \"British_Virgin_Islands\", \"Canada\", \"Cayman_Islands\", \"Costa_Rica\", \"Cuba\", \"Cura\\u00e7ao\", \"Dominica\", \"Dominican_Republic\", \"El_Salvador\", \"Greenland\", \"Grenada\", \"Guatemala\", \"Haiti\", \"Honduras\", \"Jamaica\", \"Mexico\", \"Montserrat\", \"Nicaragua\", \"Panama\", \"Puerto_Rico\", \"Saint_Kitts_and_Nevis\", \"Saint_Lucia\", \"Saint_Vincent_and_the_Grenadines\", \"Sint_Maarten\", \"Trinidad_and_Tobago\", \"Turks_and_Caicos_islands\", \"United_States_Virgin_Islands\", \"United_States_of_America\"], \"legendgroup\": \"North America\", \"locations\": [\"ATG\", \"ABW\", \"BHS\", \"BRB\", \"BLZ\", \"BMU\", \"VGB\", \"CAN\", \"CYM\", \"CRI\", \"CUB\", \"CUW\", \"DMA\", \"DOM\", \"SLV\", \"GRL\", \"GRD\", \"GTM\", \"HTI\", \"HND\", \"JAM\", \"MEX\", \"MSR\", \"NIC\", \"PAN\", \"PRI\", \"KNA\", \"LCA\", \"VCT\", \"SXM\", \"TTO\", \"TCA\", \"VIR\", \"USA\"], \"marker\": {\"color\": \"#19d3f3\", \"size\": [7, 50, 14, 34, 3, 27, 3, 7408, 12, 330, 170, 9, 11, 901, 32, 10, 9, 36, 15, 141, 38, 1092, 5, 4, 1075, 174, 7, 9, 1, 3, 85, 5, 30, 164554], \"sizemode\": \"area\", \"sizeref\": 982.3775}, \"name\": \"North America\", \"showlegend\": true, \"type\": \"scattergeo\"}], \"name\": \"2020-03-01\"}, {\"data\": [{\"geo\": \"geo\", \"hoverlabel\": {\"namelength\": 0}, \"hovertemplate\": \"<b>%{hovertext}</b><br><br>Continent=Asia<br>Period=2020-04-01<br>cases=%{marker.size}<br>ISO_Apha3=%{location}\", \"hovertext\": [\"Afghanistan\", \"Armenia\", \"Azerbaijan\", \"Bahrain\", \"Bangladesh\", \"Bhutan\", \"Brunei_Darussalam\", \"Cambodia\", \"China\", \"Cyprus\", \"Georgia\", \"India\", \"Indonesia\", \"Iran\", \"Iraq\", \"Israel\", \"Japan\", \"Jordan\", \"Kazakhstan\", \"Kuwait\", \"Kyrgyzstan\", \"Laos\", \"Lebanon\", \"Malaysia\", \"Maldives\", \"Mongolia\", \"Myanmar\", \"Nepal\", \"Oman\", \"Pakistan\", \"Palestine\", \"Philippines\", \"Qatar\", \"Saudi_Arabia\", \"Singapore\", \"South_Korea\", \"Sri_Lanka\", \"Syria\", \"Taiwan\", \"Thailand\", \"Timor_Leste\", \"Turkey\", \"United_Arab_Emirates\", \"Uzbekistan\", \"Vietnam\", \"Yemen\"], \"legendgroup\": \"Asia\", \"locations\": [\"AFG\", \"ARM\", \"AZE\", \"BHR\", \"BGD\", \"BTN\", \"BRN\", \"KHM\", \"CHN\", \"CYP\", \"GEO\", \"IND\", \"IDN\", \"IRN\", \"IRQ\", \"ISR\", \"JPN\", \"JOR\", \"KAZ\", \"KWT\", \"KGZ\", \"LAO\", \"LBN\", \"MYS\", \"MDV\", \"MNG\", \"MMR\", \"NPL\", \"OMN\", \"PAK\", \"PSE\", \"PHL\", \"QAT\", \"SAU\", \"SGP\", \"KOR\", \"LKA\", \"SYR\", \"TWN\", \"THA\", \"TLS\", \"TUR\", \"ARE\", \"UZB\", \"VNM\", \"YEM\"], \"marker\": {\"color\": \"#636efa\", \"size\": [466, 531, 825, 621, 572, 1, 9, 13, 968, 403, 159, 7901, 2827, 30191, 722, 6672, 5302, 121, 636, 968, 335, 10, 184, 2057, 3, 4, 27, 7, 420, 3749, 153, 2564, 2286, 3009, 1688, 751, 90, 15, 82, 928, 1, 46129, 3512, 716, 33, 1], \"sizemode\": \"area\", \"sizeref\": 982.3775}, \"name\": \"Asia\", \"showlegend\": true, \"type\": \"scattergeo\"}, {\"geo\": \"geo\", \"hoverlabel\": {\"namelength\": 0}, \"hovertemplate\": \"<b>%{hovertext}</b><br><br>Continent=Africa<br>Period=2020-04-01<br>cases=%{marker.size}<br>ISO_Apha3=%{location}\", \"hovertext\": [\"Algeria\", \"Angola\", \"Benin\", \"Botswana\", \"Burkina_Faso\", \"Burundi\", \"Cameroon\", \"Cape_Verde\", \"Central_African_Republic\", \"Chad\", \"Congo\", \"Cote_dIvoire\", \"Democratic_Republic_of_the_Congo\", \"Djibouti\", \"Egypt\", \"Equatorial_Guinea\", \"Eritrea\", \"Eswatini\", \"Ethiopia\", \"Gabon\", \"Gambia\", \"Ghana\", \"Guinea\", \"Guinea_Bissau\", \"Kenya\", \"Liberia\", \"Libya\", \"Madagascar\", \"Malawi\", \"Mali\", \"Mauritania\", \"Mauritius\", \"Morocco\", \"Mozambique\", \"Niger\", \"Nigeria\", \"Rwanda\", \"Sao_Tome_and_Principe\", \"Senegal\", \"Seychelles\", \"Sierra_Leone\", \"Somalia\", \"South_Africa\", \"South_Sudan\", \"Sudan\", \"Togo\", \"Tunisia\", \"Uganda\", \"United_Republic_of_Tanzania\", \"Zambia\", \"Zimbabwe\"], \"legendgroup\": \"Africa\", \"locations\": [\"DZA\", \"AGO\", \"BEN\", \"BWA\", \"BFA\", \"BDI\", \"CMR\", \"CPV\", \"CAF\", \"TCD\", \"COG\", \"CIV\", \"COD\", \"DJI\", \"EGY\", \"GNQ\", \"ERI\", \"SWZ\", \"ETH\", \"GAB\", \"GMB\", \"GHA\", \"GIN\", \"GNB\", \"KEN\", \"LBR\", \"LBY\", \"MDG\", \"MWI\", \"MLI\", \"MRT\", \"MUS\", \"MAR\", \"MOZ\", \"NER\", \"NGA\", \"RWA\", \"STP\", \"SEN\", \"SYC\", \"SLE\", \"SOM\", \"ZAF\", \"SSD\", \"SDN\", \"TGO\", \"TUN\", \"UGA\", \"TZA\", \"ZMB\", \"ZWE\"], \"marker\": {\"color\": \"#EF553B\", \"size\": [1403, 12, 29, 13, 275, 5, 678, 5, 5, 8, 51, 406, 136, 188, 1456, 7, 22, 5, 48, 50, 5, 414, 234, 37, 147, 47, 17, 62, 13, 98, 2, 196, 1105, 13, 509, 192, 56, 4, 118, 0, 10, 22, 847, 4, 13, 42, 395, 21, 13, 8, 7], \"sizemode\": \"area\", \"sizeref\": 982.3775}, \"name\": \"Africa\", \"showlegend\": true, \"type\": \"scattergeo\"}, {\"geo\": \"geo\", \"hoverlabel\": {\"namelength\": 0}, \"hovertemplate\": \"<b>%{hovertext}</b><br><br>Continent=Oceania<br>Period=2020-04-01<br>cases=%{marker.size}<br>ISO_Apha3=%{location}\", \"hovertext\": [\"Australia\", \"Fiji\", \"French_Polynesia\", \"Guam\", \"New_Caledonia\", \"New_Zealand\", \"Northern_Mariana_Islands\", \"Papua_New_Guinea\"], \"legendgroup\": \"Oceania\", \"locations\": [\"AUS\", \"FJI\", \"PYF\", \"GUM\", \"NCL\", \"NZL\", \"MNP\", \"PNG\"], \"marker\": {\"color\": \"#00cc96\", \"size\": [1765, 11, 17, 73, 2, 417, 9, 1], \"sizemode\": \"area\", \"sizeref\": 982.3775}, \"name\": \"Oceania\", \"showlegend\": true, \"type\": \"scattergeo\"}, {\"geo\": \"geo\", \"hoverlabel\": {\"namelength\": 0}, \"hovertemplate\": \"<b>%{hovertext}</b><br><br>Continent=Europe<br>Period=2020-04-01<br>cases=%{marker.size}<br>ISO_Apha3=%{location}\", \"hovertext\": [\"Albania\", \"Andorra\", \"Austria\", \"Belarus\", \"Belgium\", \"Bosnia_and_Herzegovina\", \"Bulgaria\", \"Croatia\", \"Denmark\", \"Estonia\", \"Faroe_Islands\", \"Finland\", \"France\", \"Germany\", \"Gibraltar\", \"Greece\", \"Guernsey\", \"Holy_See\", \"Hungary\", \"Iceland\", \"Ireland\", \"Isle_of_Man\", \"Italy\", \"Jersey\", \"Kosovo\", \"Latvia\", \"Liechtenstein\", \"Lithuania\", \"Luxembourg\", \"Malta\", \"Moldova\", \"Monaco\", \"Montenegro\", \"Netherlands\", \"North_Macedonia\", \"Norway\", \"Poland\", \"Portugal\", \"Romania\", \"Russia\", \"San_Marino\", \"Serbia\", \"Slovakia\", \"Slovenia\", \"Spain\", \"Sweden\", \"Switzerland\", \"Ukraine\", \"United_Kingdom\"], \"legendgroup\": \"Europe\", \"locations\": [\"ALB\", \"AND\", \"AUT\", \"BLR\", \"BEL\", \"BIH\", \"BGR\", \"HRV\", \"DNK\", \"EST\", \"FRO\", \"FIN\", \"FRA\", \"DEU\", \"GIB\", \"GRC\", \"GGY\", \"VAT\", \"HUN\", \"ISL\", \"IRL\", \"IMN\", \"ITA\", \"JEY\", \"XKX\", \"LVA\", \"LIE\", \"LTU\", \"LUX\", \"MLT\", \"MDA\", \"MCO\", \"MNE\", \"NLD\", \"MKD\", \"NOR\", \"POL\", \"PRT\", \"ROU\", \"RUS\", \"SMR\", \"SRB\", \"SVK\", \"SVN\", \"ESP\", \"SWE\", \"CHE\", \"UKR\", \"GBR\"], \"marker\": {\"color\": \"#ab63fa\", \"size\": [223, 268, 4319, 2473, 17748, 654, 316, 810, 3597, 594, 16, 1661, 50853, 61103, 60, 902, 173, 2, 966, 615, 6745, 186, 54624, 150, 256, 275, 16, 578, 1293, 222, 1364, 44, 181, 13837, 543, 2189, 4619, 10177, 4348, 13934, 127, 2889, 406, 442, 80824, 6455, 9808, 2297, 62138], \"sizemode\": \"area\", \"sizeref\": 982.3775}, \"name\": \"Europe\", \"showlegend\": true, \"type\": \"scattergeo\"}, {\"geo\": \"geo\", \"hoverlabel\": {\"namelength\": 0}, \"hovertemplate\": \"<b>%{hovertext}</b><br><br>Continent=South America<br>Period=2020-04-01<br>cases=%{marker.size}<br>ISO_Apha3=%{location}\", \"hovertext\": [\"Argentina\", \"Bolivia\", \"Brazil\", \"Chile\", \"Colombia\", \"Ecuador\", \"Guyana\", \"Paraguay\", \"Peru\", \"Suriname\", \"Uruguay\", \"Venezuela\"], \"legendgroup\": \"South America\", \"locations\": [\"ARG\", \"BOL\", \"BRA\", \"CHL\", \"COL\", \"ECU\", \"GUY\", \"PRY\", \"PER\", \"SUR\", \"URY\", \"VEN\"], \"marker\": {\"color\": \"#FFA15A\", \"size\": [1242, 223, 17590, 4764, 1978, 5500, 37, 82, 6569, 2, 192, 46], \"sizemode\": \"area\", \"sizeref\": 982.3775}, \"name\": \"South America\", \"showlegend\": true, \"type\": \"scattergeo\"}, {\"geo\": \"geo\", \"hoverlabel\": {\"namelength\": 0}, \"hovertemplate\": \"<b>%{hovertext}</b><br><br>Continent=North America<br>Period=2020-04-01<br>cases=%{marker.size}<br>ISO_Apha3=%{location}\", \"hovertext\": [\"Antigua_and_Barbuda\", \"Aruba\", \"Bahamas\", \"Barbados\", \"Belize\", \"Bermuda\", \"British_Virgin_Islands\", \"Canada\", \"Cayman_Islands\", \"Costa_Rica\", \"Cuba\", \"Cura\\u00e7ao\", \"Dominica\", \"Dominican_Republic\", \"El_Salvador\", \"Greenland\", \"Grenada\", \"Guatemala\", \"Haiti\", \"Honduras\", \"Jamaica\", \"Mexico\", \"Montserrat\", \"Nicaragua\", \"Panama\", \"Puerto_Rico\", \"Saint_Kitts_and_Nevis\", \"Saint_Lucia\", \"Saint_Vincent_and_the_Grenadines\", \"Sint_Maarten\", \"Trinidad_and_Tobago\", \"Turks_and_Caicos_islands\", \"United_States_Virgin_Islands\", \"United_States_of_America\"], \"legendgroup\": \"North America\", \"locations\": [\"ATG\", \"ABW\", \"BHS\", \"BRB\", \"BLZ\", \"BMU\", \"VGB\", \"CAN\", \"CYM\", \"CRI\", \"CUB\", \"CUW\", \"DMA\", \"DOM\", \"SLV\", \"GRL\", \"GRD\", \"GTM\", \"HTI\", \"HND\", \"JAM\", \"MEX\", \"MSR\", \"NIC\", \"PAN\", \"PRI\", \"KNA\", \"LCA\", \"VCT\", \"SXM\", \"TTO\", \"TCA\", \"VIR\", \"USA\"], \"marker\": {\"color\": \"#19d3f3\", \"size\": [14, 42, 33, 37, 11, 30, 0, 16941, 41, 265, 499, 5, 5, 2066, 93, 1, 5, 120, 18, 256, 34, 3567, 6, 7, 2325, 723, 5, 6, 11, 47, 28, 4, 21, 392951], \"sizemode\": \"area\", \"sizeref\": 982.3775}, \"name\": \"North America\", \"showlegend\": true, \"type\": \"scattergeo\"}], \"name\": \"2020-04-01\"}]);\n",
       "                        }).then(function(){\n",
       "                            \n",
       "var gd = document.getElementById('2b1f51da-97b5-43d7-ad80-12b48e99c1f9');\n",
       "var x = new MutationObserver(function (mutations, observer) {{\n",
       "        var display = window.getComputedStyle(gd).display;\n",
       "        if (!display || display === 'none') {{\n",
       "            console.log([gd, 'removed!']);\n",
       "            Plotly.purge(gd);\n",
       "            observer.disconnect();\n",
       "        }}\n",
       "}});\n",
       "\n",
       "// Listen for the removal of the full notebook cells\n",
       "var notebookContainer = gd.closest('#notebook-container');\n",
       "if (notebookContainer) {{\n",
       "    x.observe(notebookContainer, {childList: true});\n",
       "}}\n",
       "\n",
       "// Listen for the clearing of the current output cell\n",
       "var outputEl = gd.closest('.output');\n",
       "if (outputEl) {{\n",
       "    x.observe(outputEl, {childList: true});\n",
       "}}\n",
       "\n",
       "                        })\n",
       "                };\n",
       "                });\n",
       "            </script>\n",
       "        </div>"
      ]
     },
     "metadata": {},
     "output_type": "display_data"
    }
   ],
   "source": [
    "import plotly.express as px\n",
    "#df = px.data.gapminder()\n",
    "fig = px.scatter_geo(dfg, locations=\"ISO_Apha3\", color=\"Continent\",\n",
    "                     hover_name=\"Country Name\", size=\"cases\",\n",
    "                     animation_frame=\"Period\",\n",
    "                     projection=\"natural earth\")\n",
    "fig.show()"
   ]
  },
  {
   "cell_type": "code",
   "execution_count": 625,
   "metadata": {},
   "outputs": [
    {
     "data": {
      "text/html": [
       "<div>\n",
       "<style scoped>\n",
       "    .dataframe tbody tr th:only-of-type {\n",
       "        vertical-align: middle;\n",
       "    }\n",
       "\n",
       "    .dataframe tbody tr th {\n",
       "        vertical-align: top;\n",
       "    }\n",
       "\n",
       "    .dataframe thead th {\n",
       "        text-align: right;\n",
       "    }\n",
       "</style>\n",
       "<table border=\"1\" class=\"dataframe\">\n",
       "  <thead>\n",
       "    <tr style=\"text-align: right;\">\n",
       "      <th></th>\n",
       "      <th>country</th>\n",
       "      <th>continent</th>\n",
       "      <th>year</th>\n",
       "      <th>lifeExp</th>\n",
       "      <th>pop</th>\n",
       "      <th>gdpPercap</th>\n",
       "      <th>iso_alpha</th>\n",
       "      <th>iso_num</th>\n",
       "    </tr>\n",
       "  </thead>\n",
       "  <tbody>\n",
       "    <tr>\n",
       "      <th>0</th>\n",
       "      <td>Afghanistan</td>\n",
       "      <td>Asia</td>\n",
       "      <td>1952</td>\n",
       "      <td>28.801</td>\n",
       "      <td>8425333</td>\n",
       "      <td>779.445314</td>\n",
       "      <td>AFG</td>\n",
       "      <td>4</td>\n",
       "    </tr>\n",
       "    <tr>\n",
       "      <th>1</th>\n",
       "      <td>Afghanistan</td>\n",
       "      <td>Asia</td>\n",
       "      <td>1957</td>\n",
       "      <td>30.332</td>\n",
       "      <td>9240934</td>\n",
       "      <td>820.853030</td>\n",
       "      <td>AFG</td>\n",
       "      <td>4</td>\n",
       "    </tr>\n",
       "    <tr>\n",
       "      <th>2</th>\n",
       "      <td>Afghanistan</td>\n",
       "      <td>Asia</td>\n",
       "      <td>1962</td>\n",
       "      <td>31.997</td>\n",
       "      <td>10267083</td>\n",
       "      <td>853.100710</td>\n",
       "      <td>AFG</td>\n",
       "      <td>4</td>\n",
       "    </tr>\n",
       "    <tr>\n",
       "      <th>3</th>\n",
       "      <td>Afghanistan</td>\n",
       "      <td>Asia</td>\n",
       "      <td>1967</td>\n",
       "      <td>34.020</td>\n",
       "      <td>11537966</td>\n",
       "      <td>836.197138</td>\n",
       "      <td>AFG</td>\n",
       "      <td>4</td>\n",
       "    </tr>\n",
       "    <tr>\n",
       "      <th>4</th>\n",
       "      <td>Afghanistan</td>\n",
       "      <td>Asia</td>\n",
       "      <td>1972</td>\n",
       "      <td>36.088</td>\n",
       "      <td>13079460</td>\n",
       "      <td>739.981106</td>\n",
       "      <td>AFG</td>\n",
       "      <td>4</td>\n",
       "    </tr>\n",
       "    <tr>\n",
       "      <th>...</th>\n",
       "      <td>...</td>\n",
       "      <td>...</td>\n",
       "      <td>...</td>\n",
       "      <td>...</td>\n",
       "      <td>...</td>\n",
       "      <td>...</td>\n",
       "      <td>...</td>\n",
       "      <td>...</td>\n",
       "    </tr>\n",
       "    <tr>\n",
       "      <th>1699</th>\n",
       "      <td>Zimbabwe</td>\n",
       "      <td>Africa</td>\n",
       "      <td>1987</td>\n",
       "      <td>62.351</td>\n",
       "      <td>9216418</td>\n",
       "      <td>706.157306</td>\n",
       "      <td>ZWE</td>\n",
       "      <td>716</td>\n",
       "    </tr>\n",
       "    <tr>\n",
       "      <th>1700</th>\n",
       "      <td>Zimbabwe</td>\n",
       "      <td>Africa</td>\n",
       "      <td>1992</td>\n",
       "      <td>60.377</td>\n",
       "      <td>10704340</td>\n",
       "      <td>693.420786</td>\n",
       "      <td>ZWE</td>\n",
       "      <td>716</td>\n",
       "    </tr>\n",
       "    <tr>\n",
       "      <th>1701</th>\n",
       "      <td>Zimbabwe</td>\n",
       "      <td>Africa</td>\n",
       "      <td>1997</td>\n",
       "      <td>46.809</td>\n",
       "      <td>11404948</td>\n",
       "      <td>792.449960</td>\n",
       "      <td>ZWE</td>\n",
       "      <td>716</td>\n",
       "    </tr>\n",
       "    <tr>\n",
       "      <th>1702</th>\n",
       "      <td>Zimbabwe</td>\n",
       "      <td>Africa</td>\n",
       "      <td>2002</td>\n",
       "      <td>39.989</td>\n",
       "      <td>11926563</td>\n",
       "      <td>672.038623</td>\n",
       "      <td>ZWE</td>\n",
       "      <td>716</td>\n",
       "    </tr>\n",
       "    <tr>\n",
       "      <th>1703</th>\n",
       "      <td>Zimbabwe</td>\n",
       "      <td>Africa</td>\n",
       "      <td>2007</td>\n",
       "      <td>43.487</td>\n",
       "      <td>12311143</td>\n",
       "      <td>469.709298</td>\n",
       "      <td>ZWE</td>\n",
       "      <td>716</td>\n",
       "    </tr>\n",
       "  </tbody>\n",
       "</table>\n",
       "<p>1704 rows × 8 columns</p>\n",
       "</div>"
      ],
      "text/plain": [
       "          country continent  year  lifeExp       pop   gdpPercap iso_alpha  \\\n",
       "0     Afghanistan      Asia  1952   28.801   8425333  779.445314       AFG   \n",
       "1     Afghanistan      Asia  1957   30.332   9240934  820.853030       AFG   \n",
       "2     Afghanistan      Asia  1962   31.997  10267083  853.100710       AFG   \n",
       "3     Afghanistan      Asia  1967   34.020  11537966  836.197138       AFG   \n",
       "4     Afghanistan      Asia  1972   36.088  13079460  739.981106       AFG   \n",
       "...           ...       ...   ...      ...       ...         ...       ...   \n",
       "1699     Zimbabwe    Africa  1987   62.351   9216418  706.157306       ZWE   \n",
       "1700     Zimbabwe    Africa  1992   60.377  10704340  693.420786       ZWE   \n",
       "1701     Zimbabwe    Africa  1997   46.809  11404948  792.449960       ZWE   \n",
       "1702     Zimbabwe    Africa  2002   39.989  11926563  672.038623       ZWE   \n",
       "1703     Zimbabwe    Africa  2007   43.487  12311143  469.709298       ZWE   \n",
       "\n",
       "      iso_num  \n",
       "0           4  \n",
       "1           4  \n",
       "2           4  \n",
       "3           4  \n",
       "4           4  \n",
       "...       ...  \n",
       "1699      716  \n",
       "1700      716  \n",
       "1701      716  \n",
       "1702      716  \n",
       "1703      716  \n",
       "\n",
       "[1704 rows x 8 columns]"
      ]
     },
     "execution_count": 625,
     "metadata": {},
     "output_type": "execute_result"
    }
   ],
   "source": [
    "df"
   ]
  },
  {
   "cell_type": "code",
   "execution_count": 626,
   "metadata": {},
   "outputs": [
    {
     "ename": "ValueError",
     "evalue": "\nThe create_choropleth figure factory requires the plotly-geo package.\nInstall using pip with:\n\n$ pip install plotly-geo\n\nOr, install using conda with\n\n$ conda install -c plotly plotly-geo\n",
     "output_type": "error",
     "traceback": [
      "\u001b[1;31m---------------------------------------------------------------------------\u001b[0m",
      "\u001b[1;31mValueError\u001b[0m                                Traceback (most recent call last)",
      "\u001b[1;32m<ipython-input-626-63133962ea27>\u001b[0m in \u001b[0;36m<module>\u001b[1;34m\u001b[0m\n\u001b[0;32m     23\u001b[0m     \u001b[0mshow_hover\u001b[0m\u001b[1;33m=\u001b[0m\u001b[1;32mTrue\u001b[0m\u001b[1;33m,\u001b[0m \u001b[0mcentroid_marker\u001b[0m\u001b[1;33m=\u001b[0m\u001b[1;33m{\u001b[0m\u001b[1;34m'opacity'\u001b[0m\u001b[1;33m:\u001b[0m \u001b[1;36m0\u001b[0m\u001b[1;33m}\u001b[0m\u001b[1;33m,\u001b[0m\u001b[1;33m\u001b[0m\u001b[1;33m\u001b[0m\u001b[0m\n\u001b[0;32m     24\u001b[0m     \u001b[0masp\u001b[0m\u001b[1;33m=\u001b[0m\u001b[1;36m2.9\u001b[0m\u001b[1;33m,\u001b[0m \u001b[0mtitle\u001b[0m\u001b[1;33m=\u001b[0m\u001b[1;34m'USA by Unemployment %'\u001b[0m\u001b[1;33m,\u001b[0m\u001b[1;33m\u001b[0m\u001b[1;33m\u001b[0m\u001b[0m\n\u001b[1;32m---> 25\u001b[1;33m     \u001b[0mlegend_title\u001b[0m\u001b[1;33m=\u001b[0m\u001b[1;34m'% unemployed'\u001b[0m\u001b[1;33m\u001b[0m\u001b[1;33m\u001b[0m\u001b[0m\n\u001b[0m\u001b[0;32m     26\u001b[0m )\n\u001b[0;32m     27\u001b[0m \u001b[1;33m\u001b[0m\u001b[0m\n",
      "\u001b[1;32m~\\anaconda3\\lib\\site-packages\\plotly\\figure_factory\\_county_choropleth.py\u001b[0m in \u001b[0;36mcreate_choropleth\u001b[1;34m(fips, values, scope, binning_endpoints, colorscale, order, simplify_county, simplify_state, asp, show_hover, show_state_data, state_outline, county_outline, centroid_marker, round_legend_values, exponent_format, legend_title, **layout_options)\u001b[0m\n\u001b[0;32m    620\u001b[0m \u001b[1;33m\u001b[0m\u001b[0m\n\u001b[0;32m    621\u001b[0m \u001b[0;31m$\u001b[0m \u001b[0mconda\u001b[0m \u001b[0minstall\u001b[0m \u001b[1;33m-\u001b[0m\u001b[0mc\u001b[0m \u001b[0mplotly\u001b[0m \u001b[0mplotly\u001b[0m\u001b[1;33m-\u001b[0m\u001b[0mgeo\u001b[0m\u001b[1;33m\u001b[0m\u001b[1;33m\u001b[0m\u001b[0m\n\u001b[1;32m--> 622\u001b[1;33m \"\"\"\n\u001b[0m\u001b[0;32m    623\u001b[0m         )\n\u001b[0;32m    624\u001b[0m \u001b[1;33m\u001b[0m\u001b[0m\n",
      "\u001b[1;31mValueError\u001b[0m: \nThe create_choropleth figure factory requires the plotly-geo package.\nInstall using pip with:\n\n$ pip install plotly-geo\n\nOr, install using conda with\n\n$ conda install -c plotly plotly-geo\n"
     ]
    }
   ],
   "source": [
    "import plotly.figure_factory as ff\n",
    "\n",
    "import numpy as np\n",
    "import pandas as pd\n",
    "\n",
    "df_sample = pd.read_csv('https://raw.githubusercontent.com/plotly/datasets/master/laucnty16.csv')\n",
    "df_sample['State FIPS Code'] = df_sample['State FIPS Code'].apply(lambda x: str(x).zfill(2))\n",
    "df_sample['County FIPS Code'] = df_sample['County FIPS Code'].apply(lambda x: str(x).zfill(3))\n",
    "df_sample['FIPS'] = df_sample['State FIPS Code'] + df_sample['County FIPS Code']\n",
    "\n",
    "colorscale = [\"#f7fbff\",\"#ebf3fb\",\"#deebf7\",\"#d2e3f3\",\"#c6dbef\",\"#b3d2e9\",\"#9ecae1\",\n",
    "              \"#85bcdb\",\"#6baed6\",\"#57a0ce\",\"#4292c6\",\"#3082be\",\"#2171b5\",\"#1361a9\",\n",
    "              \"#08519c\",\"#0b4083\",\"#08306b\"]\n",
    "endpts = list(np.linspace(1, 12, len(colorscale) - 1))\n",
    "fips = df_sample['FIPS'].tolist()\n",
    "values = df_sample['Unemployment Rate (%)'].tolist()\n",
    "\n",
    "fig = ff.create_choropleth(\n",
    "    fips=fips, values=values,\n",
    "    binning_endpoints=endpts,\n",
    "    colorscale=colorscale,\n",
    "    show_state_data=False,\n",
    "    show_hover=True, centroid_marker={'opacity': 0},\n",
    "    asp=2.9, title='USA by Unemployment %',\n",
    "    legend_title='% unemployed'\n",
    ")\n",
    "\n",
    "fig.layout.template = None\n",
    "fig.show()"
   ]
  },
  {
   "cell_type": "code",
   "execution_count": null,
   "metadata": {},
   "outputs": [],
   "source": []
  },
  {
   "cell_type": "code",
   "execution_count": null,
   "metadata": {},
   "outputs": [],
   "source": []
  },
  {
   "cell_type": "code",
   "execution_count": null,
   "metadata": {},
   "outputs": [],
   "source": []
  },
  {
   "cell_type": "code",
   "execution_count": null,
   "metadata": {},
   "outputs": [],
   "source": []
  }
 ],
 "metadata": {
  "kernelspec": {
   "display_name": "Python 3",
   "language": "python",
   "name": "python3"
  },
  "language_info": {
   "codemirror_mode": {
    "name": "ipython",
    "version": 3
   },
   "file_extension": ".py",
   "mimetype": "text/x-python",
   "name": "python",
   "nbconvert_exporter": "python",
   "pygments_lexer": "ipython3",
   "version": "3.7.6"
  }
 },
 "nbformat": 4,
 "nbformat_minor": 4
}
